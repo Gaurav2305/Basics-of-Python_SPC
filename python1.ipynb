{
 "cells": [
  {
   "cell_type": "code",
   "execution_count": null,
   "metadata": {
    "colab": {
     "base_uri": "https://localhost:8080/",
     "height": 35
    },
    "id": "MleENdY094xl",
    "outputId": "c10654da-ba76-42f9-a447-c3084b540585"
   },
   "outputs": [
    {
     "data": {
      "application/vnd.google.colaboratory.intrinsic+json": {
       "type": "string"
      },
      "text/plain": [
       "'Sanket'"
      ]
     },
     "execution_count": 2,
     "metadata": {},
     "output_type": "execute_result"
    }
   ],
   "source": [
    "Name =\" Sanket\"\n",
    "Department = 'Statistics'\n",
    "github_id = 'bsanketm'"
   ]
  },
  {
   "cell_type": "code",
   "execution_count": 1,
   "metadata": {},
   "outputs": [],
   "source": [
    "# Demo for Git Learning 2"
   ]
  },
  {
   "cell_type": "code",
   "execution_count": null,
   "metadata": {
    "id": "nV5NB5Zx_HMO"
   },
   "outputs": [],
   "source": [
    "b = 3\n",
    "c =\"3\"\n",
    "#3 is Number\n",
    "# \"3\" is string\n"
   ]
  },
  {
   "cell_type": "code",
   "execution_count": null,
   "metadata": {
    "colab": {
     "base_uri": "https://localhost:8080/",
     "height": 35
    },
    "id": "SbhruuKB_StY",
    "outputId": "4b8323cb-fee9-4be9-b3cf-89016751da13"
   },
   "outputs": [
    {
     "data": {
      "application/vnd.google.colaboratory.intrinsic+json": {
       "type": "string"
      },
      "text/plain": [
       "'dfnsajdknsd\\nsdfmsdojid\\nsdnfsdfksa\\nskdnfjsf'"
      ]
     },
     "execution_count": 6,
     "metadata": {},
     "output_type": "execute_result"
    }
   ],
   "source": [
    "# Commen\n",
    "# To write down the Multiple line Comment\n",
    "\"\"\"dfnsajdknsd\n",
    "sdfmsdojid\n",
    "sdnfsdfksa\n",
    "skdnfjsf\"\"\"\n"
   ]
  },
  {
   "cell_type": "code",
   "execution_count": null,
   "metadata": {
    "id": "r5kjxgpm_Xn7"
   },
   "outputs": [],
   "source": [
    "# To declare the Variable\n",
    "#Variable can only be start from A-Z,a-z,_\n",
    "#We cann't keywords in Python as a Variable\n",
    "#As Python is Case Sensative laungauge A & a is different variable\n",
    "A_ = 1\n",
    "a_ =2\n",
    "a = 3\n",
    "A = 4"
   ]
  },
  {
   "cell_type": "markdown",
   "metadata": {
    "id": "JFLhRq02wEyC"
   },
   "source": []
  },
  {
   "cell_type": "code",
   "execution_count": null,
   "metadata": {
    "id": "OZVSYF-MARX-"
   },
   "outputs": [],
   "source": [
    "# Python as A Calculator\n",
    "x, y = 10, 5\n",
    "print(\"Addition=\",x+y)\n",
    "print(\"Subtraction=\",x-y)\n",
    "print(\"Multiplication=\",x*y)  \n",
    "print(\"Division=\",x/y)\n",
    "print(\"Power=\",x**y)\n",
    "print(\"Modulus=\",x%y)\n",
    "print(\"Floor division=\",x//y)"
   ]
  },
  {
   "cell_type": "code",
   "execution_count": null,
   "metadata": {
    "colab": {
     "base_uri": "https://localhost:8080/"
    },
    "id": "rsO9nVuxv9J1",
    "outputId": "f529a1dc-1dd3-4d1b-85a0-74211f61b2fb"
   },
   "outputs": [
    {
     "name": "stdout",
     "output_type": "stream",
     "text": [
      "Orange\n",
      "Banana\n",
      "Cherry\n",
      "241\n",
      "fwdfwe\n",
      "3235\n"
     ]
    }
   ],
   "source": [
    "#Assigning Multiple Values to a Variable\n",
    "x, y, z,a,b,c,f = \"Orange\", \"Banana\", \"Cherry\",241,\"fwdfwe\",\"3235\",\"sdasd\"\n",
    "print(x)\n",
    "print(y)\n",
    "print(z)\n",
    "print(a)\n",
    "print(b)\n",
    "print(c)"
   ]
  }
 ],
 "metadata": {
  "colab": {
   "name": "python1",
   "provenance": []
  },
  "kernelspec": {
   "display_name": "Python 3 (ipykernel)",
   "language": "python",
   "name": "python3"
  },
  "language_info": {
   "codemirror_mode": {
    "name": "ipython",
    "version": 3
   },
   "file_extension": ".py",
   "mimetype": "text/x-python",
   "name": "python",
   "nbconvert_exporter": "python",
   "pygments_lexer": "ipython3",
   "version": "3.8.8"
  }
 },
 "nbformat": 4,
 "nbformat_minor": 1
}
