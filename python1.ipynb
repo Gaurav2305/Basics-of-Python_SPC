{
  "nbformat": 4,
  "nbformat_minor": 0,
  "metadata": {
    "colab": {
      "name": "python1",
      "provenance": []
    },
    "kernelspec": {
      "name": "python3",
      "display_name": "Python 3"
    },
    "language_info": {
      "name": "python"
    }
  },
  "cells": [
    {
      "cell_type": "code",
      "execution_count": null,
      "metadata": {
        "colab": {
          "base_uri": "https://localhost:8080/",
          "height": 35
        },
        "id": "MleENdY094xl",
        "outputId": "c10654da-ba76-42f9-a447-c3084b540585"
      },
      "outputs": [
        {
          "output_type": "execute_result",
          "data": {
            "text/plain": [
              "'Sanket'"
            ],
            "application/vnd.google.colaboratory.intrinsic+json": {
              "type": "string"
            }
          },
          "metadata": {},
          "execution_count": 2
        }
      ],
      "source": [
        "Name =\" Sanket\"\n",
        "Department = 'Statistics'\n",
        "github_id = 'bsanketm'"
      ]
    },
    {
      "cell_type": "code",
      "source": [
        "b = 3\n",
        "c =\"3\"\n",
        "#3 is Number\n",
        "# \"3\" is string\n"
      ],
      "metadata": {
        "id": "nV5NB5Zx_HMO"
      },
      "execution_count": null,
      "outputs": []
    },
    {
      "cell_type": "code",
      "source": [
        "# Commen\n",
        "# To write down the Multiple line Comment\n",
        "\"\"\"dfnsajdknsd\n",
        "sdfmsdojid\n",
        "sdnfsdfksa\n",
        "skdnfjsf\"\"\"\n"
      ],
      "metadata": {
        "colab": {
          "base_uri": "https://localhost:8080/",
          "height": 35
        },
        "id": "SbhruuKB_StY",
        "outputId": "4b8323cb-fee9-4be9-b3cf-89016751da13"
      },
      "execution_count": null,
      "outputs": [
        {
          "output_type": "execute_result",
          "data": {
            "text/plain": [
              "'dfnsajdknsd\\nsdfmsdojid\\nsdnfsdfksa\\nskdnfjsf'"
            ],
            "application/vnd.google.colaboratory.intrinsic+json": {
              "type": "string"
            }
          },
          "metadata": {},
          "execution_count": 6
        }
      ]
    },
    {
      "cell_type": "code",
      "source": [
        "# To declare the Variable\n",
        "#Variable can only be start from A-Z,a-z,_\n",
        "#We cann't keywords in Python as a Variable\n",
        "#As Python is Case Sensative laungauge A & a is different variable\n",
        "A_ = 1\n",
        "a_ =2\n",
        "a = 3\n",
        "A = 4"
      ],
      "metadata": {
        "id": "r5kjxgpm_Xn7"
      },
      "execution_count": null,
      "outputs": []
    },
    {
      "cell_type": "markdown",
      "source": [
        ""
      ],
      "metadata": {
        "id": "JFLhRq02wEyC"
      }
    },
    {
      "cell_type": "code",
      "source": [
        "# Python as A Calculator\n",
        "x, y = 10, 5\n",
        "print(\"Addition=\",x+y)\n",
        "print(\"Subtraction=\",x-y)\n",
        "print(\"Multiplication=\",x*y)  \n",
        "print(\"Division=\",x/y)\n",
        "print(\"Power=\",x**y)\n",
        "print(\"Modulus=\",x%y)\n",
        "print(\"Floor division=\",x//y)"
      ],
      "metadata": {
        "id": "OZVSYF-MARX-"
      },
      "execution_count": null,
      "outputs": []
    },
    {
      "cell_type": "code",
      "source": [
        "#Assigning Multiple Values to a Variable\n",
        "x, y, z,a,b,c,f = \"Orange\", \"Banana\", \"Cherry\",241,\"fwdfwe\",\"3235\",\"sdasd\"\n",
        "print(x)\n",
        "print(y)\n",
        "print(z)\n",
        "print(a)\n",
        "print(b)\n",
        "print(c)"
      ],
      "metadata": {
        "colab": {
          "base_uri": "https://localhost:8080/"
        },
        "id": "rsO9nVuxv9J1",
        "outputId": "f529a1dc-1dd3-4d1b-85a0-74211f61b2fb"
      },
      "execution_count": null,
      "outputs": [
        {
          "output_type": "stream",
          "name": "stdout",
          "text": [
            "Orange\n",
            "Banana\n",
            "Cherry\n",
            "241\n",
            "fwdfwe\n",
            "3235\n"
          ]
        }
      ]
    }
  ]
}