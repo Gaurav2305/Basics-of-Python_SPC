{
  "nbformat": 4,
  "nbformat_minor": 0,
  "metadata": {
    "colab": {
      "name": "python1",
      "provenance": []
    },
    "kernelspec": {
      "name": "python3",
      "display_name": "Python 3"
    },
    "language_info": {
      "name": "python"
    }
  },
  "cells": [
    {
      "cell_type": "code",
      "execution_count": 2,
      "metadata": {
        "colab": {
          "base_uri": "https://localhost:8080/",
          "height": 35
        },
        "id": "MleENdY094xl",
        "outputId": "c10654da-ba76-42f9-a447-c3084b540585"
      },
      "outputs": [
        {
          "output_type": "execute_result",
          "data": {
            "text/plain": [
              "'Sanket'"
            ],
            "application/vnd.google.colaboratory.intrinsic+json": {
              "type": "string"
            }
          },
          "metadata": {},
          "execution_count": 2
        }
      ],
      "source": [
        "a=\"Sanket\"\n",
        "a"
      ]
    },
    {
      "cell_type": "code",
      "source": [
        "b = 3\n",
        "c =\"3\"\n",
        "#3 is Number\n",
        "# \"3\" is string\n"
      ],
      "metadata": {
        "id": "nV5NB5Zx_HMO"
      },
      "execution_count": 5,
      "outputs": []
    },
    {
      "cell_type": "code",
      "source": [
        "\"\"\"dfnsajdknsd\n",
        "sdfmsdojid\n",
        "sdnfsdfksa\n",
        "skdnfjsf\"\"\"\n"
      ],
      "metadata": {
        "colab": {
          "base_uri": "https://localhost:8080/",
          "height": 35
        },
        "id": "SbhruuKB_StY",
        "outputId": "4b8323cb-fee9-4be9-b3cf-89016751da13"
      },
      "execution_count": 6,
      "outputs": [
        {
          "output_type": "execute_result",
          "data": {
            "text/plain": [
              "'dfnsajdknsd\\nsdfmsdojid\\nsdnfsdfksa\\nskdnfjsf'"
            ],
            "application/vnd.google.colaboratory.intrinsic+json": {
              "type": "string"
            }
          },
          "metadata": {},
          "execution_count": 6
        }
      ]
    },
    {
      "cell_type": "code",
      "source": [
        "A_\n",
        "a_\n",
        "Awaitable"
      ],
      "metadata": {
        "id": "r5kjxgpm_Xn7"
      },
      "execution_count": null,
      "outputs": []
    },
    {
      "cell_type": "code",
      "source": [
        "b = 22/7"
      ],
      "metadata": {
        "id": "ZM3kPQw6AIXJ"
      },
      "execution_count": 11,
      "outputs": []
    },
    {
      "cell_type": "code",
      "source": [
        "b"
      ],
      "metadata": {
        "colab": {
          "base_uri": "https://localhost:8080/"
        },
        "id": "oA2nbBL3AKJO",
        "outputId": "1ba4700c-d1c1-4be8-d443-cf06ddc306fa"
      },
      "execution_count": 13,
      "outputs": [
        {
          "output_type": "execute_result",
          "data": {
            "text/plain": [
              "3.142857142857143"
            ]
          },
          "metadata": {},
          "execution_count": 13
        }
      ]
    },
    {
      "cell_type": "code",
      "source": [
        ""
      ],
      "metadata": {
        "id": "OZVSYF-MARX-"
      },
      "execution_count": null,
      "outputs": []
    }
  ]
}