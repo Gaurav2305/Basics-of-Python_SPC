{
 "cells": [
  {
   "cell_type": "code",
   "execution_count": null,
   "id": "4f6f6914",
   "metadata": {},
   "outputs": [],
   "source": [
    "#Data Types in Python\n",
    "# text data or string \n",
    "x, y, z = 5, \"Good Day!\", \"global\"\n",
    "print(x)\n",
    "print(type(x))\n",
    "print(y)\n",
    "print(type(y))\n",
    "print(z)\n",
    "print(type(z)) \n",
    "# String Must be in Single or Double Quote"
   ]
  },
  {
   "cell_type": "markdown",
   "id": "11c123f0",
   "metadata": {},
   "source": [
    "There are three numeric types in Python:\n",
    "\n",
    "1.int\n",
    "2.float\n",
    "3.complex"
   ]
  },
  {
   "cell_type": "code",
   "execution_count": null,
   "id": "c3ecee62",
   "metadata": {},
   "outputs": [],
   "source": [
    "x = 1    # int \n",
    "y = 2.8 # float 1.3, 4.4,-3.3 \n",
    "z = 1j   # complex\n",
    "# check type"
   ]
  },
  {
   "cell_type": "code",
   "execution_count": null,
   "id": "774b3d5b",
   "metadata": {},
   "outputs": [],
   "source": [
    "print(type(x))\n",
    "print(type(y))\n",
    "print(type(z))"
   ]
  },
  {
   "cell_type": "code",
   "execution_count": null,
   "id": "17675eef",
   "metadata": {},
   "outputs": [],
   "source": [
    "x = 1 # int\n",
    "y = 2.8 # float\n",
    "z = 1j # complex\n",
    "\n",
    "#convert from int to float:\n",
    "a = float(x)\n",
    "#convert from float to int:\n",
    "b = int(y)\n",
    "#convert from int to complex:\n",
    "c = complex(x)\n",
    "\n",
    "print(a)\n",
    "print(b)\n",
    "print(c)\n",
    "\n",
    "print(type(a))\n",
    "print(type(b))\n",
    "print(type(c))"
   ]
  },
  {
   "cell_type": "markdown",
   "id": "7bb5ddfc",
   "metadata": {},
   "source": [
    "Strings\n",
    "Strings in python are surrounded by either single quotation marks or double quotation marks."
   ]
  },
  {
   "cell_type": "code",
   "execution_count": null,
   "id": "52b51435",
   "metadata": {},
   "outputs": [],
   "source": [
    "# Assign string to variable \n",
    "a = 'Hello'\n",
    "print(a)\n",
    "#multiple strings\n",
    "b = \"Future is AI\"\n",
    "print(b )\n",
    "# three single quotes\n",
    "c = 'I love programming'\n",
    "print(c)"
   ]
  },
  {
   "cell_type": "markdown",
   "id": "5b40b177",
   "metadata": {},
   "source": [
    "### Methods\n",
    "- strip() method removes any whitespace from the beginning or the end.\n",
    "- lower() method returns the string in lower case.\n",
    "- upper() method returns the string in upper case.\n",
    "- replace() method replaces a string with another string.\n",
    "- split() method splits the string into substrings if it finds instances of the separator."
   ]
  },
  {
   "cell_type": "code",
   "execution_count": null,
   "id": "2ccd3299",
   "metadata": {},
   "outputs": [],
   "source": [
    "a=\"  Hi how are you?    from where their. \"\n",
    "print(a.strip())\n",
    "print(a.lower())\n",
    "print(a.upper())\n",
    "print(a.replace(\"o\", \"J\"))\n",
    "print(a.split(\"o\"))"
   ]
  },
  {
   "cell_type": "markdown",
   "id": "e7ca61f3",
   "metadata": {},
   "source": [
    "we can combine strings and numbers by using the format() method!\n",
    "\n",
    "The format() method takes the passed arguments, formats them, and places them in the string where the placeholders {} are\n",
    "\n",
    "age = 36\n",
    "txt = \"My name is John, and I am {}\"\n",
    "print(txt.format(age))\n"
   ]
  }
 ],
 "metadata": {
  "kernelspec": {
   "display_name": "Python 3 (ipykernel)",
   "language": "python",
   "name": "python3"
  },
  "language_info": {
   "codemirror_mode": {
    "name": "ipython",
    "version": 3
   },
   "file_extension": ".py",
   "mimetype": "text/x-python",
   "name": "python",
   "nbconvert_exporter": "python",
   "pygments_lexer": "ipython3",
   "version": "3.8.8"
  }
 },
 "nbformat": 4,
 "nbformat_minor": 5
}
