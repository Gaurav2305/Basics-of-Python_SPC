{
  "cells": [
    {
      "cell_type": "markdown",
      "metadata": {
        "id": "h21AluyFD21s"
      },
      "source": [
        "\n",
        "\n",
        "\n",
        "\n",
        "\n",
        "\n",
        "\n",
        "# Data Structures\n",
        "There are four collection data types in the Python programming language\n",
        "- Lists\n",
        "- Tuples\n",
        "- Sets\n",
        "- Dictionaries"
      ]
    },
    {
      "cell_type": "markdown",
      "metadata": {
        "id": "N1JCakYgD211"
      },
      "source": [
        "## Python Lists\n",
        "A list is a collection which is ordered and changeable. \n",
        "In Python lists are written with square brackets."
      ]
    },
    {
      "cell_type": "code",
      "execution_count": null,
      "metadata": {
        "id": "SHf0WHe_D213",
        "colab": {
          "base_uri": "https://localhost:8080/"
        },
        "outputId": "451a5f04-f94e-463c-eb4c-56a0c2ec2ec2"
      },
      "outputs": [
        {
          "output_type": "stream",
          "name": "stdout",
          "text": [
            "<class 'list'>\n",
            "['sanket', 'kiran']\n",
            "<class 'str'>\n",
            "ganesh\n",
            "<class 'int'>\n",
            "200\n"
          ]
        }
      ],
      "source": [
        "b = 'ganesh'\n",
        "c = 200\n",
        "a = [\"sanket\",'kiran']\n",
        "print(type(a))\n",
        "print(a)\n",
        "print(type(b))\n",
        "print(b)\n",
        "print(type(c))\n",
        "print(c)"
      ]
    },
    {
      "cell_type": "code",
      "execution_count": null,
      "metadata": {
        "id": "vJb2tVwyD217",
        "outputId": "e4ae94a1-21ac-478b-81ce-f03bc794d4b0",
        "colab": {
          "base_uri": "https://localhost:8080/"
        }
      },
      "outputs": [
        {
          "output_type": "stream",
          "name": "stdout",
          "text": [
            "['Raj', 'Arjun', 'Priya', 'Kishor', 'Anu']\n",
            "<class 'list'>\n"
          ]
        }
      ],
      "source": [
        "names = ['Raj', 'Arjun', 'Priya','Kishor','Anu']\n",
        "print(names)\n",
        "print(type(names))"
      ]
    },
    {
      "cell_type": "code",
      "execution_count": null,
      "metadata": {
        "id": "rD-ofaVoD219",
        "outputId": "33a3572a-8b61-4efb-9475-b7239c2220f3"
      },
      "outputs": [
        {
          "name": "stdout",
          "output_type": "stream",
          "text": [
            "['Raj', 'Arjun', 'Priya']\n",
            "['Priya', 'Kishor', 'Anu']\n"
          ]
        }
      ],
      "source": [
        "names\n",
        "print(names[:3] )# for first 3 index values\n",
        "print(names[2:]) # for from second index values onward"
      ]
    },
    {
      "cell_type": "code",
      "execution_count": null,
      "metadata": {
        "id": "gvGRzbAdD21_",
        "outputId": "c59505be-de90-4071-b345-ebef21699d7b",
        "colab": {
          "base_uri": "https://localhost:8080/"
        }
      },
      "outputs": [
        {
          "output_type": "stream",
          "name": "stdout",
          "text": [
            "Kishor\n",
            "['Priya', 'Kishor', 'Anu']\n",
            "['Raj', 'Arjun']\n",
            "['Arjun', 'Priya']\n"
          ]
        }
      ],
      "source": [
        "# Access items\n",
        "print(names[3])\n",
        "print(names[2:])\n",
        "print(names[:2])\n",
        "print(names[1:3])"
      ]
    },
    {
      "cell_type": "code",
      "execution_count": null,
      "metadata": {
        "id": "8XefgU3jD22A",
        "outputId": "b4e5a579-7b75-46a8-8453-6d87e61f1550"
      },
      "outputs": [
        {
          "data": {
            "text/plain": [
              "['Raj', 'Arjun', 'Priya', 'Kishor', 'Anu']"
            ]
          },
          "execution_count": 6,
          "metadata": {},
          "output_type": "execute_result"
        }
      ],
      "source": [
        "names"
      ]
    },
    {
      "cell_type": "code",
      "execution_count": null,
      "metadata": {
        "id": "dHmft6xjD22B",
        "outputId": "a9680777-de4e-4887-9328-b3979b720ead"
      },
      "outputs": [
        {
          "name": "stdout",
          "output_type": "stream",
          "text": [
            "Anu\n",
            "['Kishor', 'Anu']\n",
            "['Raj', 'Arjun', 'Priya']\n",
            "['Priya', 'Kishor']\n"
          ]
        }
      ],
      "source": [
        "# Negative index\n",
        "print(names[-1])\n",
        "print(names[-2:])\n",
        "print(names[:-2])\n",
        "print(names[-3:-1])"
      ]
    },
    {
      "cell_type": "code",
      "execution_count": null,
      "metadata": {
        "id": "tlsYOFPOD22C",
        "outputId": "be3b62e2-86e8-46f9-b5e6-8bd9a866ed10",
        "colab": {
          "base_uri": "https://localhost:8080/"
        }
      },
      "outputs": [
        {
          "output_type": "stream",
          "name": "stdout",
          "text": [
            "['Raj', 'Arjun', 'Priya', 'Vijay', 'Anu']\n",
            "['Raj', 'Arjun', 'Priya', 'joy', 'Anu']\n"
          ]
        }
      ],
      "source": [
        "# Change item in list\n",
        "print(names)\n",
        "names[3]=\"joy\"\n",
        "print(names)"
      ]
    },
    {
      "cell_type": "code",
      "execution_count": null,
      "metadata": {
        "id": "gekeko1PD22F",
        "outputId": "d707989c-e8e4-4be0-cd82-a42893c461ef",
        "colab": {
          "base_uri": "https://localhost:8080/"
        }
      },
      "outputs": [
        {
          "output_type": "stream",
          "name": "stdout",
          "text": [
            "Raj\n",
            "Arjun\n",
            "Priya\n",
            "Kishor\n",
            "Anu\n"
          ]
        }
      ],
      "source": [
        "# Looping through lists\n",
        "for j in names:\n",
        "    print(j)#+'5'+j)"
      ]
    },
    {
      "cell_type": "code",
      "execution_count": null,
      "metadata": {
        "id": "VdchXAdED22G",
        "outputId": "f640e34b-cc51-424f-ab49-7dd16c125024"
      },
      "outputs": [
        {
          "name": "stdout",
          "output_type": "stream",
          "text": [
            "[1, 2, 3, ['a', 'b', [5, 6]]]\n"
          ]
        }
      ],
      "source": [
        "# Nested list\n",
        "mylist=[1,2,3,['a','b',[5,6]]]\n",
        "print(mylist)"
      ]
    },
    {
      "cell_type": "code",
      "source": [
        "sp =[[\"Science\"],[\"Commerce\"],[\"Arts\"]]\n",
        "sp"
      ],
      "metadata": {
        "colab": {
          "base_uri": "https://localhost:8080/"
        },
        "id": "qcm2T-CZf66J",
        "outputId": "cd1b3acd-ecb9-49fb-f9e3-4ea320d8042e"
      },
      "execution_count": null,
      "outputs": [
        {
          "output_type": "execute_result",
          "data": {
            "text/plain": [
              "[['Science'], ['Commerce'], ['Arts']]"
            ]
          },
          "metadata": {},
          "execution_count": 14
        }
      ]
    },
    {
      "cell_type": "markdown",
      "metadata": {
        "id": "ei0ywUtJD22H"
      },
      "source": [
        "## Methods \n",
        "- append(): Adds an element at the end of the list\n",
        "- clear(): Removes all the elements from the list\n",
        "- copy(): Returns a copy of the list\n",
        "- count(): Returns the number of elements with the specified value\n",
        "- del : Delete list\n",
        "- extend(): Add the elements of a list (or any iterable), to the end of the current list\n",
        "- index(): Returns the index of the first element with the specified value\n",
        "- insert():\tAdds an element at the specified position\n",
        "- len(): Length of list\n",
        "- list(): Copies list from given list\n",
        "- pop(): Removes the element at the specified position\n",
        "- remove():\tRemoves the item with the specified value\n",
        "- reverse(): Reverses the order of the list\n",
        "- sort(): Sorts the list"
      ]
    },
    {
      "cell_type": "code",
      "execution_count": null,
      "metadata": {
        "id": "tcfrAgCAD22J",
        "outputId": "f2d40ce1-ab89-44e0-ecc6-a9b2e8aa7332",
        "colab": {
          "base_uri": "https://localhost:8080/"
        }
      },
      "outputs": [
        {
          "output_type": "stream",
          "name": "stdout",
          "text": [
            "['Raj', 'Arjun', 'Priya', 'joy', 'Anu']\n",
            "['Raj', 'Arjun', 'Priya', 'joy', 'Anu', 'Kumar']\n"
          ]
        }
      ],
      "source": [
        "# append(): Adds an element at the end of the list\n",
        "print(names)\n",
        "names.append(\"Kumar\")\n",
        "print(names)"
      ]
    },
    {
      "cell_type": "code",
      "execution_count": null,
      "metadata": {
        "id": "b-eEVIv_D22K",
        "outputId": "7fc0c8ed-7198-4109-c913-1f6363936e82",
        "colab": {
          "base_uri": "https://localhost:8080/"
        }
      },
      "outputs": [
        {
          "output_type": "stream",
          "name": "stdout",
          "text": [
            "['Raj', 'Arjun', 'Priya', 'joy', 'Anu', 'Kumar']\n",
            "[]\n"
          ]
        }
      ],
      "source": [
        "# clear(): Removes all the elements from the list\n",
        "print(names)\n",
        "names.clear()\n",
        "print(names)"
      ]
    },
    {
      "cell_type": "code",
      "execution_count": null,
      "metadata": {
        "id": "vAFJwaW9D22L",
        "outputId": "04d95c44-1338-4523-ed2a-982069cc351c",
        "colab": {
          "base_uri": "https://localhost:8080/"
        }
      },
      "outputs": [
        {
          "output_type": "stream",
          "name": "stdout",
          "text": [
            "['Raj', 'Arjun', 'Priya', 'Kishor', 'Anu']\n"
          ]
        }
      ],
      "source": [
        "# copy(): Returns a copy of the list\n",
        "names = ['Raj', 'Arjun', 'Priya','Kishor','Anu']\n",
        "Names1=names.copy()\n",
        "print(Names1)"
      ]
    },
    {
      "cell_type": "code",
      "source": [
        "names"
      ],
      "metadata": {
        "colab": {
          "base_uri": "https://localhost:8080/"
        },
        "id": "FqMkf5XOi458",
        "outputId": "7552eccf-04cc-4056-9c25-f978cac677fb"
      },
      "execution_count": null,
      "outputs": [
        {
          "output_type": "execute_result",
          "data": {
            "text/plain": [
              "['Raj', 'Arjun', 'Priya', 'Kishor', 'Anu', 'Raj']"
            ]
          },
          "metadata": {},
          "execution_count": 21
        }
      ]
    },
    {
      "cell_type": "code",
      "execution_count": null,
      "metadata": {
        "id": "0wv9M-g8D22L",
        "outputId": "946cdd76-272e-4439-fb0d-5d6a0f3ce257",
        "colab": {
          "base_uri": "https://localhost:8080/"
        }
      },
      "outputs": [
        {
          "output_type": "stream",
          "name": "stdout",
          "text": [
            "2\n"
          ]
        }
      ],
      "source": [
        "# count(): Returns the number of elements with the specified value\n",
        "names.append(\"Raj\")\n",
        "x=names.count('Raj')\n",
        "print(x)"
      ]
    },
    {
      "cell_type": "code",
      "execution_count": null,
      "metadata": {
        "id": "XZHBq4-pD22M",
        "outputId": "fe271a81-d4da-470d-c82b-852b6055186d",
        "colab": {
          "base_uri": "https://localhost:8080/",
          "height": 217
        }
      },
      "outputs": [
        {
          "output_type": "stream",
          "name": "stdout",
          "text": [
            "['Raj', 'Arjun', 'Priya', 'Kishor', 'Anu']\n"
          ]
        },
        {
          "output_type": "error",
          "ename": "NameError",
          "evalue": "ignored",
          "traceback": [
            "\u001b[0;31m---------------------------------------------------------------------------\u001b[0m",
            "\u001b[0;31mNameError\u001b[0m                                 Traceback (most recent call last)",
            "\u001b[0;32m<ipython-input-22-e34c2ef9118c>\u001b[0m in \u001b[0;36m<module>\u001b[0;34m()\u001b[0m\n\u001b[1;32m      2\u001b[0m \u001b[0mprint\u001b[0m\u001b[0;34m(\u001b[0m\u001b[0mNames1\u001b[0m\u001b[0;34m)\u001b[0m\u001b[0;34m\u001b[0m\u001b[0;34m\u001b[0m\u001b[0m\n\u001b[1;32m      3\u001b[0m \u001b[0;32mdel\u001b[0m \u001b[0mNames1\u001b[0m\u001b[0;34m\u001b[0m\u001b[0;34m\u001b[0m\u001b[0m\n\u001b[0;32m----> 4\u001b[0;31m \u001b[0mprint\u001b[0m\u001b[0;34m(\u001b[0m\u001b[0mNames1\u001b[0m\u001b[0;34m)\u001b[0m\u001b[0;34m\u001b[0m\u001b[0;34m\u001b[0m\u001b[0m\n\u001b[0m",
            "\u001b[0;31mNameError\u001b[0m: name 'Names1' is not defined"
          ]
        }
      ],
      "source": [
        "# del : Delete list\n",
        "print(Names1)\n",
        "del Names1\n",
        "print(Names1)"
      ]
    },
    {
      "cell_type": "code",
      "execution_count": null,
      "metadata": {
        "id": "kEIPYypcD22M",
        "outputId": "b73e393e-dcc4-41cc-c68f-fdef2bf7a317",
        "colab": {
          "base_uri": "https://localhost:8080/"
        }
      },
      "outputs": [
        {
          "output_type": "stream",
          "name": "stdout",
          "text": [
            "['Raj', 'Arjun', 'Priya', 'Kishor', 'Anu', 'Raj', 'Ford', 'BMW', 'Volvo']\n"
          ]
        }
      ],
      "source": [
        "# extend(): Add the elements of a list (or any iterable), \n",
        "# to the end of the current list\n",
        "cars = ['Ford', 'BMW', 'Volvo']\n",
        "names.extend(cars)\n",
        "print(names)"
      ]
    },
    {
      "cell_type": "code",
      "execution_count": null,
      "metadata": {
        "id": "g4rkwhzLD22N",
        "outputId": "a3105ddc-057b-46c7-b499-5644f0ed9a2a",
        "colab": {
          "base_uri": "https://localhost:8080/"
        }
      },
      "outputs": [
        {
          "output_type": "execute_result",
          "data": {
            "text/plain": [
              "4"
            ]
          },
          "metadata": {},
          "execution_count": 28
        }
      ],
      "source": [
        "# index(): Returns the index of the first element with the specified value\n",
        "x=names.index('Anu')\n",
        "x"
      ]
    },
    {
      "cell_type": "code",
      "execution_count": null,
      "metadata": {
        "id": "rxDxIKWpD22O",
        "outputId": "1304f342-923c-476b-a97c-b724da0ad502"
      },
      "outputs": [
        {
          "name": "stdout",
          "output_type": "stream",
          "text": [
            "['Raj', 'Arjun', 'Audi', 'Priya', 'Kishor', 'Anu', 'Raj', 'Ford', 'BMW', 'Volvo']\n"
          ]
        }
      ],
      "source": [
        "# insert():\tAdds an element at the specified position\n",
        "names.insert(2,'\n",
        "\n",
        "Audi')\n",
        "print(names)"
      ]
    },
    {
      "cell_type": "code",
      "execution_count": null,
      "metadata": {
        "id": "Wf9eyq2bD22S",
        "outputId": "2ef9c660-b721-484b-83a7-2452ef05f812"
      },
      "outputs": [
        {
          "name": "stdout",
          "output_type": "stream",
          "text": [
            "10\n"
          ]
        }
      ],
      "source": [
        "# len(): Length of list\n",
        "print(len(names))"
      ]
    },
    {
      "cell_type": "code",
      "execution_count": null,
      "metadata": {
        "id": "eMx8iDoKD22T",
        "outputId": "7750c808-c441-44bf-c546-10838688a95e"
      },
      "outputs": [
        {
          "name": "stdout",
          "output_type": "stream",
          "text": [
            "['Audi', 'BMW', 'Ford']\n"
          ]
        }
      ],
      "source": [
        "# list(): Creats list from given inputs\n",
        "new_list=list(('Audi',\"BMW\",'Ford'))\n",
        "print(new_list)"
      ]
    },
    {
      "cell_type": "code",
      "execution_count": null,
      "metadata": {
        "id": "8Etb8DRfD22T",
        "outputId": "e8a90f6b-6686-43fd-c4ac-7a0c00587bbb"
      },
      "outputs": [
        {
          "name": "stdout",
          "output_type": "stream",
          "text": [
            "['Raj', 'Arjun', 'Anu', 'Raj', 'Ford', 'BMW', 'Volvo']\n",
            "7\n"
          ]
        }
      ],
      "source": [
        "# pop(): Removes the element at the specified position\n",
        "names.pop(2)\n",
        "#print(names.pop(2))\n",
        "print(names)\n",
        "#names.pop(2)\n",
        "#print(names)\n",
        "print(len(names))"
      ]
    },
    {
      "cell_type": "code",
      "execution_count": null,
      "metadata": {
        "id": "typf9jGdD22U",
        "outputId": "961d8bb1-526d-4fbf-d1f1-3dcd11510219"
      },
      "outputs": [
        {
          "name": "stdout",
          "output_type": "stream",
          "text": [
            "['Arjun', 'Anu', 'Raj', 'Ford', 'BMW', 'Volvo']\n"
          ]
        }
      ],
      "source": [
        "# remove(): Removes the item with the specified value\n",
        "names.remove('Raj')\n",
        "print(names)"
      ]
    },
    {
      "cell_type": "code",
      "execution_count": null,
      "metadata": {
        "id": "doMIyavJD22U",
        "outputId": "eb0efcd0-c96b-428d-cf2f-d1f264d88c21"
      },
      "outputs": [
        {
          "name": "stdout",
          "output_type": "stream",
          "text": [
            "['Volvo', 'BMW', 'Ford', 'Raj', 'Anu', 'Arjun']\n"
          ]
        }
      ],
      "source": [
        "# reverse(): Reverses the order of the list\n",
        "names.reverse()\n",
        "print(names)"
      ]
    },
    {
      "cell_type": "code",
      "execution_count": null,
      "metadata": {
        "id": "nCfyhd72D22U",
        "outputId": "7f4405c7-1687-4f81-f701-7e364a0c3125"
      },
      "outputs": [
        {
          "name": "stdout",
          "output_type": "stream",
          "text": [
            "['Anu', 'Arjun', 'BMW', 'Ford', 'Raj', 'Volvo']\n"
          ]
        }
      ],
      "source": [
        "# sort(): Sorts the list\n",
        "names.sort()\n",
        "print(names)"
      ]
    },
    {
      "cell_type": "markdown",
      "metadata": {
        "id": "lZ9HuBfKD22V"
      },
      "source": [
        "## Tuples\n",
        "A tuple is a collection which is ordered and unchangeable. \n",
        "\n",
        "\n",
        "In Python tuples are written with round brackets."
      ]
    },
    {
      "cell_type": "markdown",
      "metadata": {
        "id": "zgraLGeyD22V"
      },
      "source": [
        "The key difference between the tuples and lists is that while the tuples are immutable objects the lists are mutable. \n",
        "\n",
        "This means that tuples cannot be changed while the lists can be modified.\n",
        "Tuples are more memory efficient than the lists."
      ]
    },
    {
      "cell_type": "code",
      "execution_count": null,
      "metadata": {
        "id": "HjI6iyEtD22V",
        "outputId": "b79877d0-2e37-43fd-b423-1a488d209a8e",
        "colab": {
          "base_uri": "https://localhost:8080/"
        }
      },
      "outputs": [
        {
          "output_type": "stream",
          "name": "stdout",
          "text": [
            "(1, 5, 8, 3, 10, 3) \n",
            "\n",
            "('Raj', 'Arjun', 'Priya', 'Kishor', 'Anu')\n"
          ]
        }
      ],
      "source": [
        "t1=(1,5,8,3,10,3)\n",
        "t2=('Raj', 'Arjun', 'Priya','Kishor','Anu')\n",
        "print(t1,\"\\n\")\n",
        "print(t2)"
      ]
    },
    {
      "cell_type": "code",
      "source": [
        "t3 = [\"Raj\",\"Arjun\"]\n",
        "t3"
      ],
      "metadata": {
        "colab": {
          "base_uri": "https://localhost:8080/"
        },
        "id": "7mypijiprKqT",
        "outputId": "ac0827a3-90fc-41e2-b22a-0013b485f504"
      },
      "execution_count": null,
      "outputs": [
        {
          "output_type": "execute_result",
          "data": {
            "text/plain": [
              "['Raj', 'Arjun']"
            ]
          },
          "metadata": {},
          "execution_count": 18
        }
      ]
    },
    {
      "cell_type": "code",
      "execution_count": null,
      "metadata": {
        "id": "JXYFeg4eD22W",
        "colab": {
          "base_uri": "https://localhost:8080/"
        },
        "outputId": "79deeed3-cfb9-41b7-b1a3-ae3bcce70f55"
      },
      "outputs": [
        {
          "output_type": "stream",
          "name": "stdout",
          "text": [
            "1\n",
            "(8, 3, 10, 3)\n",
            "(1, 5, 8)\n"
          ]
        }
      ],
      "source": [
        "# Access elements\n",
        "print(t1[0])\n",
        "print(t1[2:])\n",
        "print(t1[:3])"
      ]
    },
    {
      "cell_type": "code",
      "execution_count": null,
      "metadata": {
        "id": "7GTvh62CD22W",
        "colab": {
          "base_uri": "https://localhost:8080/"
        },
        "outputId": "b906f0c1-0a3f-4784-ecfd-c832ab96358e"
      },
      "outputs": [
        {
          "output_type": "stream",
          "name": "stdout",
          "text": [
            "3\n",
            "(8, 3, 10, 3)\n",
            "(1, 5, 8)\n"
          ]
        }
      ],
      "source": [
        "# Negative index\n",
        "print(t1[-1])\n",
        "print(t1[-4:])\n",
        "print(t1[:-3])"
      ]
    },
    {
      "cell_type": "markdown",
      "metadata": {
        "id": "sKLHFa1eD22W"
      },
      "source": [
        "Tuples are not interchangable. So no additional element can be added or removed. Try..."
      ]
    },
    {
      "cell_type": "code",
      "execution_count": null,
      "metadata": {
        "id": "JQkgsPpFD22W",
        "colab": {
          "base_uri": "https://localhost:8080/",
          "height": 183
        },
        "outputId": "b310293e-4aa3-470d-f858-6fcfc2f1a46b"
      },
      "outputs": [
        {
          "output_type": "error",
          "ename": "TypeError",
          "evalue": "ignored",
          "traceback": [
            "\u001b[0;31m---------------------------------------------------------------------------\u001b[0m",
            "\u001b[0;31mTypeError\u001b[0m                                 Traceback (most recent call last)",
            "\u001b[0;32m<ipython-input-20-0395e9ca36af>\u001b[0m in \u001b[0;36m<module>\u001b[0;34m()\u001b[0m\n\u001b[1;32m      1\u001b[0m \u001b[0;31m# Change tuple values\u001b[0m\u001b[0;34m\u001b[0m\u001b[0;34m\u001b[0m\u001b[0;34m\u001b[0m\u001b[0m\n\u001b[0;32m----> 2\u001b[0;31m \u001b[0mt1\u001b[0m\u001b[0;34m[\u001b[0m\u001b[0;36m0\u001b[0m\u001b[0;34m]\u001b[0m\u001b[0;34m=\u001b[0m\u001b[0;36m99\u001b[0m\u001b[0;34m\u001b[0m\u001b[0;34m\u001b[0m\u001b[0m\n\u001b[0m",
            "\u001b[0;31mTypeError\u001b[0m: 'tuple' object does not support item assignment"
          ]
        }
      ],
      "source": [
        "# Change tuple values\n",
        "t1[0]=99"
      ]
    },
    {
      "cell_type": "code",
      "execution_count": null,
      "metadata": {
        "id": "OwGUg4b9D22X"
      },
      "outputs": [],
      "source": [
        "# Looping through tuple\n",
        "for j in t1:\n",
        "    print(j)"
      ]
    },
    {
      "cell_type": "code",
      "execution_count": null,
      "metadata": {
        "id": "Tr_26NQ6D22X"
      },
      "outputs": [],
      "source": [
        "# Check if 'Raj' in t2\n",
        "if \"Raj\" in t2:\n",
        "    print(\"Raj is listed in t2\")\n",
        "print('Raj' in t1)"
      ]
    },
    {
      "cell_type": "code",
      "execution_count": null,
      "metadata": {
        "id": "TI0tM_qwD22X"
      },
      "outputs": [],
      "source": [
        "# tuple with one item\n",
        "T1=(\"Hi\",)\n",
        "print(type(T1))\n",
        "T2=(\"Hi\")\n",
        "print(type(T2))"
      ]
    },
    {
      "cell_type": "markdown",
      "metadata": {
        "id": "mP9jFN9hD22Y"
      },
      "source": [
        "## Methods \n",
        "- tuple(): Creates tuple with elements specified.\n",
        "- len(): Gives length of tuple, no. of elements in tuple.\n",
        "- t1 + t2 : Adds two tuples\n",
        "- del(): Deletes tuple\n",
        "- count(): Returns the number of times a specified value occurs in a tuple.\n",
        "- index(): Searches the tuple for a specified value and returns the position of where it was found."
      ]
    },
    {
      "cell_type": "code",
      "execution_count": null,
      "metadata": {
        "id": "hALDt3XCD22Z",
        "colab": {
          "base_uri": "https://localhost:8080/"
        },
        "outputId": "eb778c8f-6a2b-42ca-d82b-a88a47e0c522"
      },
      "outputs": [
        {
          "output_type": "stream",
          "name": "stdout",
          "text": [
            "(0, 2, 4, 6, 0, 2, 2, 5, 2, 0, 2, 3, 4)\n"
          ]
        }
      ],
      "source": [
        "# tuple(): Creates tuple with elements specified.\n",
        "t=tuple((0,2,4,6,0,2,2,5,2,0,2,3,4))\n",
        "print(t)"
      ]
    },
    {
      "cell_type": "code",
      "execution_count": null,
      "metadata": {
        "id": "rryfHRjpD22Z",
        "colab": {
          "base_uri": "https://localhost:8080/"
        },
        "outputId": "cae00ad8-ccb8-4f28-bd3c-3eb3567be10f"
      },
      "outputs": [
        {
          "output_type": "execute_result",
          "data": {
            "text/plain": [
              "13"
            ]
          },
          "metadata": {},
          "execution_count": 22
        }
      ],
      "source": [
        "# len(): Gives length of tuple, no. of elements in tuple.\n",
        "len(t)"
      ]
    },
    {
      "cell_type": "code",
      "execution_count": null,
      "metadata": {
        "id": "bycTf5z6D22a",
        "colab": {
          "base_uri": "https://localhost:8080/"
        },
        "outputId": "a9b73df2-f740-4c89-ae39-0e71b4de26eb"
      },
      "outputs": [
        {
          "output_type": "execute_result",
          "data": {
            "text/plain": [
              "(0, 2, 4, 6, 0, 2, 2, 5, 2, 0, 2, 3, 4, 1, 5, 8, 3, 10, 3)"
            ]
          },
          "metadata": {},
          "execution_count": 23
        }
      ],
      "source": [
        "# t1 + t2 : Adds two tuples\n",
        "t + t1"
      ]
    },
    {
      "cell_type": "code",
      "execution_count": null,
      "metadata": {
        "id": "gR_zDI1_D22a",
        "colab": {
          "base_uri": "https://localhost:8080/",
          "height": 218
        },
        "outputId": "9a9596d0-905d-4d11-ca05-15dbd5028e3e"
      },
      "outputs": [
        {
          "output_type": "stream",
          "name": "stdout",
          "text": [
            "(1, 5, 8, 3, 10, 3)\n"
          ]
        },
        {
          "output_type": "error",
          "ename": "NameError",
          "evalue": "ignored",
          "traceback": [
            "\u001b[0;31m---------------------------------------------------------------------------\u001b[0m",
            "\u001b[0;31mNameError\u001b[0m                                 Traceback (most recent call last)",
            "\u001b[0;32m<ipython-input-25-e6e2f8e325b0>\u001b[0m in \u001b[0;36m<module>\u001b[0;34m()\u001b[0m\n\u001b[1;32m      2\u001b[0m \u001b[0mprint\u001b[0m\u001b[0;34m(\u001b[0m\u001b[0mt1\u001b[0m\u001b[0;34m)\u001b[0m\u001b[0;34m\u001b[0m\u001b[0;34m\u001b[0m\u001b[0m\n\u001b[1;32m      3\u001b[0m \u001b[0;32mdel\u001b[0m \u001b[0mt1\u001b[0m\u001b[0;34m\u001b[0m\u001b[0;34m\u001b[0m\u001b[0m\n\u001b[0;32m----> 4\u001b[0;31m \u001b[0mprint\u001b[0m\u001b[0;34m(\u001b[0m\u001b[0mt1\u001b[0m\u001b[0;34m)\u001b[0m\u001b[0;34m\u001b[0m\u001b[0;34m\u001b[0m\u001b[0m\n\u001b[0m",
            "\u001b[0;31mNameError\u001b[0m: name 't1' is not defined"
          ]
        }
      ],
      "source": [
        "# del(): Deletes tuple\n",
        "print(t1)\n",
        "del t1\n",
        "print(t1)"
      ]
    },
    {
      "cell_type": "code",
      "execution_count": null,
      "metadata": {
        "id": "rtXNaf7YD22a",
        "colab": {
          "base_uri": "https://localhost:8080/"
        },
        "outputId": "10763a7d-6221-41d3-8ea2-3ca676be433b"
      },
      "outputs": [
        {
          "output_type": "stream",
          "name": "stdout",
          "text": [
            "(0, 2, 4, 6, 0, 2, 2, 5, 2, 0, 2, 3, 4)\n"
          ]
        },
        {
          "output_type": "execute_result",
          "data": {
            "text/plain": [
              "5"
            ]
          },
          "metadata": {},
          "execution_count": 28
        }
      ],
      "source": [
        "# count(): Returns the number of times a specified value occurs in a tuple.\n",
        "print(t)\n",
        "t.count(2)"
      ]
    },
    {
      "cell_type": "code",
      "execution_count": null,
      "metadata": {
        "id": "utSPOxAlD22a",
        "colab": {
          "base_uri": "https://localhost:8080/"
        },
        "outputId": "0101d89b-93a9-4c64-dc03-c7270bbcb84e"
      },
      "outputs": [
        {
          "output_type": "stream",
          "name": "stdout",
          "text": [
            "(0, 2, 4, 6, 0, 2, 2, 5, 2, 0, 2, 3, 4)\n"
          ]
        },
        {
          "output_type": "execute_result",
          "data": {
            "text/plain": [
              "1"
            ]
          },
          "metadata": {},
          "execution_count": 27
        }
      ],
      "source": [
        "# index(): Searches the tuple for a specified value and returns the position of where it was found.\n",
        "print(t)\n",
        "t.index(2)"
      ]
    },
    {
      "cell_type": "code",
      "execution_count": null,
      "metadata": {
        "id": "r8jmLSF5D22a",
        "colab": {
          "base_uri": "https://localhost:8080/"
        },
        "outputId": "e9a95429-2f76-4c58-95ca-88a5f6287f10"
      },
      "outputs": [
        {
          "output_type": "stream",
          "name": "stdout",
          "text": [
            "(1, 2, 5, 'a', 'b', (1, 'c'))\n"
          ]
        }
      ],
      "source": [
        "t = (1,2,5,'a','b', (1,'c'))\n",
        "print(t)"
      ]
    },
    {
      "cell_type": "markdown",
      "metadata": {
        "id": "MKnykihpD22a"
      },
      "source": [
        "## Sets\n",
        "A set is a collection which is unordered and unindexed. \n",
        "In Python sets are written with curly brackets."
      ]
    },
    {
      "cell_type": "code",
      "execution_count": null,
      "metadata": {
        "id": "3ttz7yeED22b",
        "outputId": "824f9d8a-3482-4a36-a7c8-0d8c996b6c19",
        "colab": {
          "base_uri": "https://localhost:8080/"
        }
      },
      "outputs": [
        {
          "output_type": "stream",
          "name": "stdout",
          "text": [
            "{1, 2, 3, 4, 5, 8, 9} \n",
            "\n",
            "{'X', 'A', 'D', 'C'}\n"
          ]
        }
      ],
      "source": [
        "set1={1,3,8,9,4,3,5,2,1}\n",
        "print(set1,\"\\n\")\n",
        "set2={'A','C','D','A','X'}\n",
        "print(set2)"
      ]
    },
    {
      "cell_type": "markdown",
      "metadata": {
        "id": "qYKWwgiQD22b"
      },
      "source": [
        "# Access items\n",
        "# You cannot access items in a set by referring to an index, \n",
        "# since sets are unordered the items has no index.\n"
      ]
    },
    {
      "cell_type": "code",
      "execution_count": null,
      "metadata": {
        "id": "OXf2Z9gZD22b",
        "outputId": "d948c9bc-3762-454c-bc77-6b5cd79b4210",
        "colab": {
          "base_uri": "https://localhost:8080/",
          "height": 235
        }
      },
      "outputs": [
        {
          "output_type": "error",
          "ename": "NameError",
          "evalue": "ignored",
          "traceback": [
            "\u001b[0;31m---------------------------------------------------------------------------\u001b[0m",
            "\u001b[0;31mNameError\u001b[0m                                 Traceback (most recent call last)",
            "\u001b[0;32m<ipython-input-5-062ad19a4f85>\u001b[0m in \u001b[0;36m<module>\u001b[0;34m()\u001b[0m\n\u001b[1;32m      1\u001b[0m \u001b[0;31m# Access items\u001b[0m\u001b[0;34m\u001b[0m\u001b[0;34m\u001b[0m\u001b[0;34m\u001b[0m\u001b[0m\n\u001b[1;32m      2\u001b[0m \u001b[0;31m# loop through the set items using a for loop\u001b[0m\u001b[0;34m\u001b[0m\u001b[0;34m\u001b[0m\u001b[0;34m\u001b[0m\u001b[0m\n\u001b[0;32m----> 3\u001b[0;31m \u001b[0;32mfor\u001b[0m \u001b[0mj\u001b[0m \u001b[0;32min\u001b[0m \u001b[0mset1\u001b[0m\u001b[0;34m:\u001b[0m\u001b[0;34m\u001b[0m\u001b[0;34m\u001b[0m\u001b[0m\n\u001b[0m\u001b[1;32m      4\u001b[0m     \u001b[0mprint\u001b[0m\u001b[0;34m(\u001b[0m\u001b[0mj\u001b[0m\u001b[0;34m)\u001b[0m\u001b[0;34m\u001b[0m\u001b[0;34m\u001b[0m\u001b[0m\n\u001b[1;32m      5\u001b[0m \u001b[0mprint\u001b[0m\u001b[0;34m(\u001b[0m\u001b[0;34m'A'\u001b[0m \u001b[0;32min\u001b[0m \u001b[0mset2\u001b[0m\u001b[0;34m)\u001b[0m\u001b[0;34m\u001b[0m\u001b[0;34m\u001b[0m\u001b[0m\n",
            "\u001b[0;31mNameError\u001b[0m: name 'set1' is not defined"
          ]
        }
      ],
      "source": [
        "# Access items\n",
        "# loop through the set items using a for loop\n",
        "for j in set1:\n",
        "    print(j)\n",
        "print('A' in set2)"
      ]
    },
    {
      "cell_type": "markdown",
      "metadata": {
        "id": "vVAFXjLtD22b"
      },
      "source": [
        "## Methods\n",
        "- add(): Adds an element to the set\n",
        "- clear(): Removes all the elements from the set\n",
        "- copy(): Returns a copy of the set\n",
        "- difference(): Returns a set containing the difference between two or more sets\n",
        "- difference_update(): Removes the items in this set that are also included in another, specified set\n",
        "- discard(): Remove the specified item\n",
        "- intersection(): Returns a set, that is the intersection of two other sets\n",
        "- intersection_update(): Removes the items in this set that are not present in other, specified set(s)\n",
        "- isdisjoint(): Returns whether two sets have a intersection or not\n",
        "- issubset(): Returns whether another set contains this set or not\n",
        "- issuperset(): Returns whether this set contains another set or not\n",
        "- len(): Finds length of set\n",
        "- pop(): Removes an element from the set\n",
        "- remove(): Removes the specified element\n",
        "- symmetric_difference(): Returns a set with the symmetric differences of two sets\n",
        "- symmetric_difference_update(): inserts the symmetric differences from this set and another\n",
        "- union(): Return a set containing the union of sets\n",
        "- update(): Update the set with the union of this set and others"
      ]
    },
    {
      "cell_type": "code",
      "execution_count": null,
      "metadata": {
        "id": "38tz32gdD22c",
        "outputId": "e4b1a9d3-ca36-4504-90a5-61261e2cbdd6",
        "colab": {
          "base_uri": "https://localhost:8080/"
        }
      },
      "outputs": [
        {
          "output_type": "stream",
          "name": "stdout",
          "text": [
            "{1, 2, 3, 4, 5, 8, 9}\n",
            "{1, 2, 3, 4, 5, 8, 9, 12}\n"
          ]
        }
      ],
      "source": [
        "# add(): Adds an element to the set\n",
        "print(set1)\n",
        "set1.add(12)\n",
        "print(set1)"
      ]
    },
    {
      "cell_type": "code",
      "execution_count": null,
      "metadata": {
        "id": "nrrk9udMD22d",
        "outputId": "33cce168-3eaf-4204-a579-329eca818a15",
        "colab": {
          "base_uri": "https://localhost:8080/"
        }
      },
      "outputs": [
        {
          "output_type": "stream",
          "name": "stdout",
          "text": [
            "{'A', 'X', 'C', 'D'}\n"
          ]
        }
      ],
      "source": [
        "# copy(): Returns a copy of the set\n",
        "set1=set2.copy()\n",
        "print(set1)"
      ]
    },
    {
      "cell_type": "code",
      "execution_count": null,
      "metadata": {
        "id": "i3sanZXnD22c",
        "outputId": "3e31d6f7-1bd5-486b-ad91-cefa52f10b02",
        "colab": {
          "base_uri": "https://localhost:8080/"
        }
      },
      "outputs": [
        {
          "output_type": "stream",
          "name": "stdout",
          "text": [
            "set()\n"
          ]
        }
      ],
      "source": [
        "# clear(): Removes all the elements from the set\n",
        "set2.clear()\n",
        "print(set2)"
      ]
    },
    {
      "cell_type": "code",
      "execution_count": null,
      "metadata": {
        "id": "BiuL2wRAD22d",
        "outputId": "e372a37e-7ac8-4f4c-f67e-f460ffa3772a",
        "colab": {
          "base_uri": "https://localhost:8080/"
        }
      },
      "outputs": [
        {
          "output_type": "stream",
          "name": "stdout",
          "text": [
            "{'mi', 'samsung'}\n"
          ]
        }
      ],
      "source": [
        "# difference(): Returns a set containing the difference between two or more sets\n",
        "x = {\"apple\", \"banana\", \"cherry\"}\n",
        "y = {\"samsung\", \"mi\", \"apple\"}\n",
        "\n",
        "z = y.difference(x)\n",
        "print(z)"
      ]
    },
    {
      "cell_type": "code",
      "execution_count": null,
      "metadata": {
        "id": "riV50srUD22g"
      },
      "outputs": [],
      "source": [
        "  \n",
        "  \n",
        "  # difference_update(): Removes the items in this set that are also included in another, specified set\n",
        "x = {\"apple\", \"banana\", \"cherry\"}\n",
        "y = {\"samsung\", \"mi\", \"apple\"}\n",
        "\n",
        "y.difference_update(x)\n",
        "print(y)"
      ]
    },
    {
      "cell_type": "code",
      "execution_count": null,
      "metadata": {
        "id": "8WffMWPWD22h"
      },
      "outputs": [],
      "source": [
        "# discard(): Remove the specified item\n",
        "print(set1)\n",
        "set1.discard('X')\n",
        "print(set1)"
      ]
    },
    {
      "cell_type": "code",
      "execution_count": null,
      "metadata": {
        "id": "OI5W0wVLD22i"
      },
      "outputs": [],
      "source": [
        "# intersection(): Returns a set, that is the intersection of two other sets\n",
        "x = {\"apple\", \"banana\", \"cherry\"}\n",
        "y = {\"samsung\", \"mi\", \"apple\"}\n",
        "\n",
        "z = y.intersection(x)\n",
        "print(z)"
      ]
    },
    {
      "cell_type": "code",
      "execution_count": null,
      "metadata": {
        "id": "2OA0FUokD22i"
      },
      "outputs": [],
      "source": [
        "# intersection_update(): Removes the items in this set that are not present in other, specified set(s)\n",
        "x = {\"apple\", \"banana\", \"cherry\"}\n",
        "y = {\"samsung\", \"mi\", \"apple\"}\n",
        "\n",
        "y.intersection_update(x)\n",
        "print(y)"
      ]
    },
    {
      "cell_type": "code",
      "execution_count": null,
      "metadata": {
        "id": "HLv7EayyD22i"
      },
      "outputs": [],
      "source": [
        "# isdisjoint(): Returns whether two sets have a intersection or not\n",
        "x = {\"apple\", \"banana\", \"cherry\"}\n",
        "y = {\"samsung\", \"mi\", \"apple\"}\n",
        "\n",
        "z = x.isdisjoint(y)\n",
        "print(z)"
      ]
    },
    {
      "cell_type": "code",
      "execution_count": null,
      "metadata": {
        "id": "dzx1TfVID22j"
      },
      "outputs": [],
      "source": [
        "# issubset(): Returns whether another set contains this set or not\n",
        "x = {\"apple\", \"banana\", \"cherry\"}\n",
        "y = {\"samsung\", \"mi\", \"apple\"}#,'banana','cherry'}\n",
        "\n",
        "z = y.issubset(x)\n",
        "print(z)"
      ]
    },
    {
      "cell_type": "code",
      "execution_count": null,
      "metadata": {
        "id": "P0PWdCO6D22j"
      },
      "outputs": [],
      "source": [
        "# issuperset(): Returns whether this set contains another set or not\n",
        "x = {\"apple\", \"banana\", \"cherry\"}\n",
        "y = {\"samsung\", \"mi\", \"apple\",'banana','cherry'}\n",
        "\n",
        "z = y.issuperset(x)\n",
        "print(z)"
      ]
    },
    {
      "cell_type": "code",
      "execution_count": null,
      "metadata": {
        "id": "40-nW6TAD22j"
      },
      "outputs": [],
      "source": [
        "# len(): Finds length of set\n",
        "len(x)"
      ]
    },
    {
      "cell_type": "code",
      "execution_count": null,
      "metadata": {
        "id": "__LtsCx3D22j"
      },
      "outputs": [],
      "source": [
        "# pop(): Removes an element from the set and returns the removed value.\n",
        "print(x)\n",
        "print(x.pop())\n",
        "print(x)"
      ]
    },
    {
      "cell_type": "code",
      "execution_count": null,
      "metadata": {
        "id": "sTkcrlUSD22k"
      },
      "outputs": [],
      "source": [
        "# remove(): Removes the specified element\n",
        "#y={'samsung', 'apple', 'mi'}\n",
        "print(y)\n",
        "y.remove('mi')\n",
        "#y.remove('MI')\n",
        "#y.discard('MI')\n",
        "print(y)"
      ]
    },
    {
      "cell_type": "code",
      "execution_count": null,
      "metadata": {
        "id": "Dx99ZxkfD22k"
      },
      "outputs": [],
      "source": [
        "# symmetric_difference(): Returns a set with the symmetric differences of two sets\n",
        "x = {\"apple\", \"banana\", \"cherry\"}\n",
        "y = {\"samsung\", \"mi\", \"apple\"}\n",
        "\n",
        "z = y.symmetric_difference(x)\n",
        "print(z)"
      ]
    },
    {
      "cell_type": "code",
      "execution_count": null,
      "metadata": {
        "id": "vuocen1fD22k"
      },
      "outputs": [],
      "source": [
        "# symmetric_difference_update(): inserts the symmetric differences from this set and another\n",
        "x = {\"apple\", \"banana\", \"cherry\"}\n",
        "y = {\"samsung\", \"mi\", \"apple\"}\n",
        "\n",
        "y.symmetric_difference_update(x)\n",
        "print(y)"
      ]
    },
    {
      "cell_type": "code",
      "execution_count": null,
      "metadata": {
        "id": "c0NluZWRD22k"
      },
      "outputs": [],
      "source": [
        "# union(): Return a set containing the union of sets\n",
        "x = {\"apple\", \"banana\", \"cherry\"}\n",
        "y = {\"samsung\", \"mi\", \"apple\"}\n",
        "\n",
        "z=x.union(y)\n",
        "print(z)"
      ]
    },
    {
      "cell_type": "code",
      "execution_count": null,
      "metadata": {
        "id": "Pc9PpGjPD22l"
      },
      "outputs": [],
      "source": [
        "# update(): Update the set with the union of this set and others\n",
        "x = {\"apple\", \"banana\", \"cherry\"}\n",
        "y = {\"samsung\", \"mi\", \"apple\"}\n",
        "\n",
        "x.update(y)\n",
        "print(x)"
      ]
    },
    {
      "cell_type": "markdown",
      "metadata": {
        "id": "vxQ1EHhMD22l"
      },
      "source": [
        "# Dictionary\n",
        "A dictionary is a collection which is unordered, changeable and indexed. In Python dictionaries are written with curly brackets, and they have keys and values."
      ]
    },
    {
      "cell_type": "code",
      "execution_count": null,
      "metadata": {
        "id": "Q6D5vzDRD22l",
        "outputId": "d3e36ba5-29e1-46ed-f967-991863a62b99",
        "colab": {
          "base_uri": "https://localhost:8080/"
        }
      },
      "outputs": [
        {
          "output_type": "stream",
          "name": "stdout",
          "text": [
            "{'Name': 'Ankit', 'Class': '12th', 'Roll No.': 25, 'Result': 'Pass'}\n"
          ]
        }
      ],
      "source": [
        "d1={\"Name\": \"Ankit\",\"Class\": '12th','Roll No.': 25, 'Result': \"Pass\"}\n",
        "print(d1) "
      ]
    },
    {
      "cell_type": "code",
      "execution_count": null,
      "metadata": {
        "id": "RWBEx6qTD22l",
        "outputId": "1b1d9339-5c3a-42bc-9a1e-0d47867f85b6",
        "colab": {
          "base_uri": "https://localhost:8080/",
          "height": 218
        }
      },
      "outputs": [
        {
          "output_type": "error",
          "ename": "KeyError",
          "evalue": "ignored",
          "traceback": [
            "\u001b[0;31m---------------------------------------------------------------------------\u001b[0m",
            "\u001b[0;31mKeyError\u001b[0m                                  Traceback (most recent call last)",
            "\u001b[0;32m<ipython-input-28-8b3ab8025991>\u001b[0m in \u001b[0;36m<module>\u001b[0;34m()\u001b[0m\n\u001b[1;32m      1\u001b[0m \u001b[0;31m# Accessing Items\u001b[0m\u001b[0;34m\u001b[0m\u001b[0;34m\u001b[0m\u001b[0;34m\u001b[0m\u001b[0m\n\u001b[1;32m      2\u001b[0m \u001b[0;31m# You can access the items of a dictionary by referring to its key name, inside square brackets.\u001b[0m\u001b[0;34m\u001b[0m\u001b[0;34m\u001b[0m\u001b[0;34m\u001b[0m\u001b[0m\n\u001b[0;32m----> 3\u001b[0;31m \u001b[0md1\u001b[0m\u001b[0;34m[\u001b[0m\u001b[0;34m'Roll No .'\u001b[0m\u001b[0;34m]\u001b[0m\u001b[0;34m\u001b[0m\u001b[0;34m\u001b[0m\u001b[0m\n\u001b[0m",
            "\u001b[0;31mKeyError\u001b[0m: 'Roll No .'"
          ]
        }
      ],
      "source": [
        "# Accessing Items\n",
        "# You can access the items of a dictionary by referring to its key name, inside square brackets.\n",
        "d1['Roll No .']"
      ]
    },
    {
      "cell_type": "code",
      "execution_count": null,
      "metadata": {
        "id": "bB-UARtvD22m",
        "outputId": "109fd370-c078-47fa-da42-0e83c3fd0d08",
        "colab": {
          "base_uri": "https://localhost:8080/"
        }
      },
      "outputs": [
        {
          "output_type": "execute_result",
          "data": {
            "text/plain": [
              "25"
            ]
          },
          "metadata": {},
          "execution_count": 30
        }
      ],
      "source": [
        "# get() function\n",
        "d1.get('Roll No.')"
      ]
    },
    {
      "cell_type": "code",
      "execution_count": null,
      "metadata": {
        "id": "iJ4cFlBZD22m",
        "outputId": "2ef3f07e-a948-4a04-925d-80d91c05f17b",
        "colab": {
          "base_uri": "https://localhost:8080/"
        }
      },
      "outputs": [
        {
          "output_type": "stream",
          "name": "stdout",
          "text": [
            "{'Name': 'Tushar', 'Class': '12th', 'Roll No.': 25, 'Result': 'Pass'}\n"
          ]
        }
      ],
      "source": [
        "# Change values\n",
        "d1['Name']='Tushar'\n",
        "print(d1)"
      ]
    },
    {
      "cell_type": "code",
      "execution_count": null,
      "metadata": {
        "id": "3B0RQr3sD22m",
        "colab": {
          "base_uri": "https://localhost:8080/"
        },
        "outputId": "bb7c4385-6d46-44fd-e2d5-f02935719a10"
      },
      "outputs": [
        {
          "output_type": "stream",
          "name": "stdout",
          "text": [
            "Name\n",
            "Class\n",
            "Roll No.\n",
            "Result\n"
          ]
        }
      ],
      "source": [
        "# Looping through dictionary\n",
        "for j in d1:\n",
        "    print(j)"
      ]
    },
    {
      "cell_type": "code",
      "execution_count": null,
      "metadata": {
        "id": "-guF4yM7D22m",
        "colab": {
          "base_uri": "https://localhost:8080/"
        },
        "outputId": "6bcc4093-3f37-416b-92d2-e8ea649355de"
      },
      "outputs": [
        {
          "output_type": "stream",
          "name": "stdout",
          "text": [
            "Ankit\n",
            "12th\n",
            "25\n",
            "Pass\n"
          ]
        }
      ],
      "source": [
        "for j in d1:\n",
        "    print(d1[j])"
      ]
    },
    {
      "cell_type": "code",
      "execution_count": null,
      "metadata": {
        "id": "dSwOMBDmD22m",
        "outputId": "76bc2b3d-f440-42b0-96ab-a50ae33bfa8a"
      },
      "outputs": [
        {
          "data": {
            "text/plain": [
              "dict_keys(['Name', 'Class', 'Roll No.', 'Result'])"
            ]
          },
          "execution_count": 53,
          "metadata": {},
          "output_type": "execute_result"
        }
      ],
      "source": [
        "# Extract keys\n",
        "d1.keys()"
      ]
    },
    {
      "cell_type": "code",
      "execution_count": null,
      "metadata": {
        "id": "deMU1hvTD22n",
        "outputId": "3af5ec03-9be5-4bd5-8f45-3a7fa4a39a7a"
      },
      "outputs": [
        {
          "data": {
            "text/plain": [
              "dict_values(['Aniket', '12th', 25, 'Pass'])"
            ]
          },
          "execution_count": 54,
          "metadata": {},
          "output_type": "execute_result"
        }
      ],
      "source": [
        "# Extract values\n",
        "d1.values()"
      ]
    },
    {
      "cell_type": "code",
      "execution_count": null,
      "metadata": {
        "id": "zl_3aytgD22n",
        "colab": {
          "base_uri": "https://localhost:8080/"
        },
        "outputId": "7723f230-6237-484c-ab44-ec99d3b83f07"
      },
      "outputs": [
        {
          "output_type": "execute_result",
          "data": {
            "text/plain": [
              "dict_items([('Name', 'Tushar'), ('Class', '12th'), ('Roll No.', 25), ('Result', 'Pass')])"
            ]
          },
          "metadata": {},
          "execution_count": 32
        }
      ],
      "source": [
        "# Extract keys and values both\n",
        "d1.items()"
      ]
    },
    {
      "cell_type": "code",
      "execution_count": null,
      "metadata": {
        "id": "NuakiBGyD22n",
        "colab": {
          "base_uri": "https://localhost:8080/"
        },
        "outputId": "dab2b124-2238-435a-a225-624939bb06ff"
      },
      "outputs": [
        {
          "output_type": "stream",
          "name": "stdout",
          "text": [
            "Name Ankit\n",
            "Class 12th\n",
            "Roll No. 25\n",
            "Result Pass\n"
          ]
        }
      ],
      "source": [
        "for k,v in d1.items():\n",
        "    print(k,v)"
      ]
    },
    {
      "cell_type": "code",
      "execution_count": null,
      "metadata": {
        "id": "DH5vRzvRD22n",
        "outputId": "47673d9a-cd38-4e25-ff35-95f381f59d87"
      },
      "outputs": [
        {
          "name": "stdout",
          "output_type": "stream",
          "text": [
            "False \n",
            "\n"
          ]
        }
      ],
      "source": [
        "# Check existance of key\n",
        "print('Names' in d1,'\\n')\n",
        "if 'Names' in d1:\n",
        "    print('Name exists in disctionary')\n"
      ]
    },
    {
      "cell_type": "code",
      "execution_count": null,
      "metadata": {
        "id": "ucdOedfZD22o",
        "outputId": "fa0637e8-f5a4-4f74-ddee-ab46ed5f9f68"
      },
      "outputs": [
        {
          "name": "stdout",
          "output_type": "stream",
          "text": [
            "{'child1': {'name': 'kruti', 'year': 2004}, 'child2': {'name': 'Akruti', 'year': 2007}, 'child3': {'name': 'Sanskruti', 'year': 2011}}\n"
          ]
        }
      ],
      "source": [
        "# Nested dictionary\n",
        "myfamily = {\n",
        "  \"child1\" : {\n",
        "    \"name\" : \"kruti\",\n",
        "    \"year\" : 2004\n",
        "  },\n",
        "  \"child2\" : {\n",
        "    \"name\" : \"Akruti\",\n",
        "    \"year\" : 2007\n",
        "  },\n",
        "  \"child3\" : {\n",
        "    \"name\" : \"Sanskruti\",\n",
        "    \"year\" : 2011\n",
        "  }\n",
        "}\n",
        "print(myfamily)"
      ]
    },
    {
      "cell_type": "code",
      "execution_count": null,
      "metadata": {
        "id": "0qp6Fy5dD22o",
        "outputId": "6b830f5b-304e-45d0-9174-d878c0b4d09c",
        "colab": {
          "base_uri": "https://localhost:8080/"
        }
      },
      "outputs": [
        {
          "output_type": "stream",
          "name": "stdout",
          "text": [
            "{'child10': {'name': 'kruti', 'year': 2004}, 'child20': {'name': 'Akruti', 'year': 2007}, 'child30': {'name': 'Sanskruti', 'year': 2011}, 'child40': ['asfasf', 'sfasfas', 'fdga']}\n"
          ]
        }
      ],
      "source": [
        "child1 = { \"name\" : \"kruti\",\"year\" : 2004}\n",
        "child2 = {\"name\" : \"Akruti\",\"year\" : 2007}\n",
        "child3 = {\"name\" : \"Sanskruti\",\"year\" : 2011}\n",
        "child4 = [\"asfasf\",\"sfasfas\",\"fdga\"]\n",
        "myfamily = { \"child10\" : child1, \"child20\" : child2, \"child30\" : child3\n",
        "            ,\"child40\":child4}\n",
        "\n",
        "print(myfamily)"
      ]
    },
    {
      "cell_type": "markdown",
      "metadata": {
        "id": "dDIYkwoeD22p"
      },
      "source": [
        "## Methods\n",
        "- clear(): Removes all the elements from the dictionary\n",
        "- copy(): Returns a copy of the dictionary\n",
        "- fromkeys(): Returns a dictionary with the specified keys and values\n",
        "- pop(): Removes the element with the specified key\n",
        "- popitem(): Removes the last inserted key-value pair\n",
        "- setdefault(): Returns the value of the specified key. If the key does not exist: insert the key, with the specified value\n",
        "- update(): Updates the dictionary with the specified key-value pairs"
      ]
    },
    {
      "cell_type": "code",
      "execution_count": null,
      "metadata": {
        "id": "-IJhJspCD22q",
        "colab": {
          "base_uri": "https://localhost:8080/"
        },
        "outputId": "c78ef6cb-c544-4cd2-d603-eab73d8e2826"
      },
      "outputs": [
        {
          "output_type": "stream",
          "name": "stdout",
          "text": [
            "{'Name': 'Ankit', 'Class': '12th', 'Roll No.': 25, 'Result': 'Pass', 'Location': 'Pune', 'Division': 'A'}\n",
            "{}\n"
          ]
        }
      ],
      "source": [
        "# clear(): Removes all the elements from the dictionary\n",
        "print(d1)\n",
        "d1.clear()\n",
        "print(d1)"
      ]
    },
    {
      "cell_type": "code",
      "execution_count": null,
      "metadata": {
        "id": "BvoDcnIqD22q",
        "colab": {
          "base_uri": "https://localhost:8080/"
        },
        "outputId": "b4eb6e29-44bc-462f-932b-d7f88bbd1b96"
      },
      "outputs": [
        {
          "output_type": "stream",
          "name": "stdout",
          "text": [
            "{'Name': 'Ankit', 'Class': '12th', 'Roll No.': 25, 'Result': 'Pass'}\n",
            "{'Name': 'Ankit', 'Class': '12th', 'Roll No.': 25, 'Result': 'Pass'}\n"
          ]
        }
      ],
      "source": [
        "# copy(): Returns a copy of the dictionary d2 = d1\n",
        "d1={'Name': 'Ankit', 'Class': '12th', 'Roll No.': 25, 'Result': 'Pass'}\n",
        "d3= d1\n",
        "print(d3)\n",
        "D=d1.copy()\n",
        "print(D)"
      ]
    },
    {
      "cell_type": "code",
      "execution_count": null,
      "metadata": {
        "id": "Rgklu0g-D22q",
        "colab": {
          "base_uri": "https://localhost:8080/"
        },
        "outputId": "6d3b61d6-baca-4570-907d-4f9ac7dcd712"
      },
      "outputs": [
        {
          "output_type": "stream",
          "name": "stdout",
          "text": [
            "{'key1': 0, 'key2': 0, 'key3': 0}\n"
          ]
        }
      ],
      "source": [
        "# fromkeys(): Returns a dictionary with the specified keys and values\n",
        "x = ('key1', 'key2', 'key3')\n",
        "y = 0\n",
        "z=dict.fromkeys(x,y)\n",
        "print(z)"
      ]
    },
    {
      "cell_type": "code",
      "execution_count": null,
      "metadata": {
        "id": "8uYIi9ngD22r",
        "colab": {
          "base_uri": "https://localhost:8080/"
        },
        "outputId": "dafd1e9c-3991-4150-fd9f-a1a8caea5167"
      },
      "outputs": [
        {
          "output_type": "stream",
          "name": "stdout",
          "text": [
            "{'Name': 'Ankit', 'Class': '12th', 'Roll No.': 25, 'Result': 'Pass'}\n",
            "{'Class': '12th', 'Roll No.': 25, 'Result': 'Pass'}\n"
          ]
        }
      ],
      "source": [
        "# pop(): Removes the element with the specified key\n",
        "print(d1)\n",
        "d1.pop('Name')\n",
        "print(d1)"
      ]
    },
    {
      "cell_type": "code",
      "execution_count": null,
      "metadata": {
        "id": "yrEMv9yMD22r",
        "colab": {
          "base_uri": "https://localhost:8080/"
        },
        "outputId": "d1b3f7c4-98ec-4103-8905-2b8b57ede3a4"
      },
      "outputs": [
        {
          "output_type": "stream",
          "name": "stdout",
          "text": [
            "{'Class': '12th', 'Roll No.': 25, 'Result': 'Pass'}\n",
            "{'Class': '12th', 'Roll No.': 25}\n"
          ]
        }
      ],
      "source": [
        "# popitem(): Removes the last inserted key-value pair\n",
        "print(d1)\n",
        "d1.popitem()\n",
        "print(d1)"
      ]
    },
    {
      "cell_type": "code",
      "execution_count": null,
      "metadata": {
        "id": "eciorrYmD22w",
        "colab": {
          "base_uri": "https://localhost:8080/"
        },
        "outputId": "34216c57-4a37-4717-aeb7-2149023bd17a"
      },
      "outputs": [
        {
          "output_type": "stream",
          "name": "stdout",
          "text": [
            "{'Name': 'Ankit', 'Class': '12th', 'Roll No.': 25, 'Result': 'Pass'}\n",
            "12th\n",
            "{'Name': 'Ankit', 'Class': '12th', 'Roll No.': 25, 'Result': 'Pass', 'Location': 'Pune'}\n"
          ]
        }
      ],
      "source": [
        "# setdefault(): Returns the value of the specified key. \n",
        "# If the key does not exist: insert the key, with the specified value\n",
        "d1={'Name': 'Ankit', 'Class': '12th', 'Roll No.': 25, 'Result': 'Pass'}\n",
        "print(d1)\n",
        "d2=d1.setdefault(\"Class\")\n",
        "print(d2)\n",
        "d3=d1.setdefault(\"Location\",'Pune')\n",
        "print(d1)"
      ]
    },
    {
      "cell_type": "code",
      "execution_count": null,
      "metadata": {
        "id": "5wEW5O-oD22x",
        "colab": {
          "base_uri": "https://localhost:8080/"
        },
        "outputId": "96d150ed-59fe-4c58-ccbe-61e49fa2b96d"
      },
      "outputs": [
        {
          "output_type": "stream",
          "name": "stdout",
          "text": [
            "{'Name': 'Ankit', 'Class': '12th', 'Roll No.': 25, 'Result': 'Pass', 'Location': 'Pune'}\n",
            "{'Name': 'Ankit', 'Class': '12th', 'Roll No.': 25, 'Result': 'Pass', 'Location': 'Pune', 'Division': 'A'}\n"
          ]
        }
      ],
      "source": [
        "# update(): Updates the dictionary with the specified key-value pairs\n",
        "print(d1)\n",
        "d1.update({\"Division\":\"A\"})\n",
        "print(d1)"
      ]
    },
    {
      "cell_type": "code",
      "execution_count": null,
      "metadata": {
        "id": "QAcsNLgOD22y"
      },
      "outputs": [],
      "source": [
        "class1= [\"sanket\",\"ganesh\",\"raj\",\"anu\"]  ## TYpe\n",
        "tuple1=('Raj', 'Arjun', 'Priya','Kishor','Anu') ##Type\n",
        "set1 = {\"sanket\",\"ganesj\",'hrutwik'} #Type\n",
        "dict1 = {\"sanket\":\"1\",\"ganesh\":\"2\",\"hrutwik\": \"3\"}# dict??\n",
        "\n"
      ]
    },
    {
      "cell_type": "code",
      "execution_count": null,
      "metadata": {
        "id": "OLcoBjayD22y",
        "colab": {
          "base_uri": "https://localhost:8080/"
        },
        "outputId": "889bf4c5-5204-425a-968f-3182fd2081e5"
      },
      "outputs": [
        {
          "output_type": "stream",
          "name": "stdout",
          "text": [
            "{'apple', 'cherry', 'banana'}\n"
          ]
        }
      ],
      "source": [
        "a= {\"apple\", \"banana\", \"cherry\", \"apple\"}\n",
        "\n",
        "print(a)\n"
      ]
    },
    {
      "cell_type": "code",
      "source": [
        "\n",
        " "
      ],
      "metadata": {
        "id": "CBHL_0HOUYfx"
      },
      "execution_count": null,
      "outputs": []
    }
  ],
  "metadata": {
    "kernelspec": {
      "display_name": "Python 3 (ipykernel)",
      "language": "python",
      "name": "python3"
    },
    "language_info": {
      "codemirror_mode": {
        "name": "ipython",
        "version": 3
      },
      "file_extension": ".py",
      "mimetype": "text/x-python",
      "name": "python",
      "nbconvert_exporter": "python",
      "pygments_lexer": "ipython3",
      "version": "3.8.8"
    },
    "colab": {
      "name": "Basics of Python_1.1-Data structures.ipynb",
      "provenance": []
    }
  },
  "nbformat": 4,
  "nbformat_minor": 0
}