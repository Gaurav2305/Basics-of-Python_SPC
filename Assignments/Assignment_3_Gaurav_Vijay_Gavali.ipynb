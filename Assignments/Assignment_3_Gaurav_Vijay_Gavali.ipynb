{
  "cells": [
    {
      "cell_type": "markdown",
      "metadata": {
        "id": "view-in-github",
        "colab_type": "text"
      },
      "source": [
        "<a href=\"https://colab.research.google.com/github/Gaurav2305/Basics-of-Python_SPC/blob/main/Assignments/Assignment_3_Gaurav_Vijay_Gavali.ipynb\" target=\"_parent\"><img src=\"https://colab.research.google.com/assets/colab-badge.svg\" alt=\"Open In Colab\"/></a>"
      ]
    },
    {
      "cell_type": "markdown",
      "metadata": {
        "id": "tjf32lkTFtM5"
      },
      "source": [
        "Name: Gaurav Vijay Gavali\n",
        "\n",
        "Roll: 9144\n",
        "    \n",
        "                             ASSIGNMENT 3\n",
        "        \n",
        "Q33-40"
      ]
    },
    {
      "cell_type": "code",
      "execution_count": 1,
      "metadata": {
        "id": "WwLsINxzFtM_"
      },
      "outputs": [],
      "source": [
        "import numpy as np\n",
        "import math\n",
        "import matplotlib.pyplot as plot\n",
        "import pandas as pd"
      ]
    },
    {
      "cell_type": "code",
      "execution_count": 2,
      "metadata": {
        "colab": {
          "base_uri": "https://localhost:8080/",
          "height": 415
        },
        "id": "ceYcukSRFtNB",
        "outputId": "0522d717-6f5d-4642-c143-b59aa640f466"
      },
      "outputs": [
        {
          "output_type": "stream",
          "name": "stdout",
          "text": [
            "   Year  Annual_Sales\n",
            "0  2015          12.5\n",
            "1  2016          13.4\n",
            "2  2017           7.5\n",
            "3  2018          20.1\n",
            "4  2019          16.1\n"
          ]
        },
        {
          "output_type": "display_data",
          "data": {
            "text/plain": [
              "<Figure size 432x288 with 1 Axes>"
            ],
            "image/png": "[encoded data removed]"
          },
          "metadata": {
            "needs_background": "light"
          }
        }
      ],
      "source": [
        "##solutionQ33) simple bar diagram \n",
        "\n",
        "data = { \"Year\":[2015,2016,2017,2018,2019],\n",
        "        \"Annual_Sales\" : [12.5,13.4,7.5,20.1,16.1]\n",
        "}\n",
        "\n",
        "#Dataframe\n",
        "data_frame = pd.DataFrame(data = data)\n",
        "print(data_frame)\n",
        "\n",
        "#Simple bar diagram\n",
        "data_frame.plot.bar(x = \"Year\", y = \"Annual_Sales\", title = \"Annual Sales per year\")\n",
        "plot.show(block=True)"
      ]
    },
    {
      "cell_type": "code",
      "execution_count": 3,
      "metadata": {
        "colab": {
          "base_uri": "https://localhost:8080/",
          "height": 383
        },
        "id": "n2XkAQbIFtND",
        "outputId": "96bb0544-6418-4bad-c463-034b4eca42b4"
      },
      "outputs": [
        {
          "output_type": "stream",
          "name": "stdout",
          "text": [
            "   X   f\n",
            "0  1   8\n",
            "1  4  12\n",
            "2  5  13\n",
            "3  7   5\n",
            "4  9   8\n"
          ]
        },
        {
          "output_type": "execute_result",
          "data": {
            "text/plain": [
              "<matplotlib.axes._subplots.AxesSubplot at 0x7f23bbf06390>"
            ]
          },
          "metadata": {},
          "execution_count": 3
        },
        {
          "output_type": "display_data",
          "data": {
            "text/plain": [
              "<Figure size 432x288 with 1 Axes>"
            ],
            "image/png": "[encoded data removed]"
          },
          "metadata": {
            "needs_background": "light"
          }
        }
      ],
      "source": [
        "##Solution Q34) spike plot\n",
        "data1 = { \"X\":[1,4,5,7,9],\n",
        "        \"f\":[8,12,13,5,8]\n",
        "}\n",
        "\n",
        "#Dataframe\n",
        "data_frame1 = pd.DataFrame(data = data1)\n",
        "print(data_frame1)\n",
        "data_frame1.plot.bar()\n"
      ]
    },
    {
      "cell_type": "code",
      "execution_count": 4,
      "metadata": {
        "colab": {
          "base_uri": "https://localhost:8080/",
          "height": 298
        },
        "id": "SRAZWpshFtNE",
        "outputId": "995db647-163c-41f3-d2bf-9d696fb74ef3"
      },
      "outputs": [
        {
          "output_type": "execute_result",
          "data": {
            "text/plain": [
              "Text(0.5, 1.0, 'Box plot of Random Numbers generated by Binomial Distribution')"
            ]
          },
          "metadata": {},
          "execution_count": 4
        },
        {
          "output_type": "display_data",
          "data": {
            "text/plain": [
              "<Figure size 432x288 with 1 Axes>"
            ],
            "image/png": "[encoded data removed]"
          },
          "metadata": {
            "needs_background": "light"
          }
        }
      ],
      "source": [
        "##solution Q35) Generate 100 random numbers from B(20, 0.3) distribution and draw the boxplot.\n",
        "Binomial=np.random.binomial(20,0.3,100)\n",
        "Binomial\n",
        "plot.boxplot(Binomial)\n",
        "plot.title(\"Box plot of Random Numbers generated by Binomial Distribution\")"
      ]
    },
    {
      "cell_type": "code",
      "execution_count": 5,
      "metadata": {
        "colab": {
          "base_uri": "https://localhost:8080/",
          "height": 593
        },
        "id": "DvykYW1XFtNF",
        "outputId": "efa46f97-1d80-4215-b27e-30137fba60d6"
      },
      "outputs": [
        {
          "output_type": "stream",
          "name": "stdout",
          "text": [
            "[-0.71675258 -1.37812676  0.59571851 -1.42708868  0.69979949  0.22484704\n",
            "  0.18629652 -2.411842   -0.40828233 -0.511939   -1.34219721  0.20405019\n",
            "  1.74111316 -0.46704417 -2.17136696 -0.29129115 -0.79426454 -1.9160261\n",
            " -0.74184396 -0.25804359 -1.28765712 -0.16053205 -1.12560691 -0.94958228\n",
            " -1.13213866 -0.92922437  0.3114197  -1.26808287 -0.7640353  -1.97762381\n",
            " -0.61577315  0.73526237 -0.50166091  0.75722491  0.48610634 -0.96187243\n",
            " -0.05163102 -1.29186226  0.49083541  0.35850383 -0.58045101 -1.22931093\n",
            "  0.21944313 -1.67000797 -0.34365399  0.44070508 -1.09379932 -0.36418037\n",
            " -1.33351709 -1.36714896 -0.28630548 -0.25685003 -0.22807315  0.0961746\n",
            "  0.18403769  0.2670203  -1.03759397 -1.01309678  0.15691704 -1.11102454\n",
            " -0.63888008  0.22240973 -0.69464329  0.42163858 -0.58277515 -0.16993797\n",
            "  0.79783432  0.48254037 -0.57361417 -0.1534902  -1.56648348 -0.1191868\n",
            "  1.13417267 -0.03484861 -1.28139806 -1.75773388 -0.81773935 -1.1656491\n",
            "  1.21344139 -0.35524311 -1.21321303 -0.12722461  0.06989574 -0.30296179\n",
            "  0.49151669 -1.0724093   1.33090373 -1.53890936  0.5602719  -0.58402149\n",
            "  0.31301915 -0.01654823  0.23135922 -0.14310898 -0.62211696  0.96699351\n",
            "  0.06641159 -0.72675169 -0.3335228   1.36760719]\n"
          ]
        },
        {
          "output_type": "execute_result",
          "data": {
            "text/plain": [
              "Text(0.5, 1.0, 'Histogram')"
            ]
          },
          "metadata": {},
          "execution_count": 5
        },
        {
          "output_type": "display_data",
          "data": {
            "text/plain": [
              "<Figure size 432x288 with 1 Axes>"
            ],
            "image/png": "[encoded data removed]"
          },
          "metadata": {
            "needs_background": "light"
          }
        }
      ],
      "source": [
        "##Q36) Generate 100 random numbers from N(0,1) distribution and draw the histogram.\n",
        "\n",
        "x = np.random.normal(loc = 0, scale = 1,size = 100)\n",
        "print(x)\n",
        "\n",
        "plot.hist(x)\n",
        "plot.title(\"Histogram\")"
      ]
    },
    {
      "cell_type": "code",
      "execution_count": 6,
      "metadata": {
        "colab": {
          "base_uri": "https://localhost:8080/"
        },
        "id": "2n_0qeyuFtNF",
        "outputId": "bbf5ceff-c752-4654-aa97-701765daa6a3"
      },
      "outputs": [
        {
          "output_type": "stream",
          "name": "stdout",
          "text": [
            "value of X:4\n",
            "value of n: 3\n",
            "Evaluated Series is  81.0\n"
          ]
        }
      ],
      "source": [
        "##Q37)\n",
        "X=(float)(input(\"value of X:\"))\n",
        "n=(int)(input(\"value of n: \"))\n",
        "sum1=1\n",
        "for i in range(2,n+1):\n",
        "    sum1=sum1+X**i\n",
        "print(\"Evaluated Series is \",sum1)\n",
        "\n",
        "\n"
      ]
    },
    {
      "cell_type": "code",
      "execution_count": 7,
      "metadata": {
        "colab": {
          "base_uri": "https://localhost:8080/"
        },
        "id": "Yu339aieFtNG",
        "outputId": "e773a281-d741-4f71-ed19-0372261778e6"
      },
      "outputs": [
        {
          "name": "stdout",
          "output_type": "stream",
          "text": [
            "1st side of triangle: 3\n",
            "2nd side of triangle: 4\n",
            "3rd side of triangle: 5\n"
          ]
        },
        {
          "output_type": "execute_result",
          "data": {
            "text/plain": [
              "6.0"
            ]
          },
          "metadata": {},
          "execution_count": 7
        }
      ],
      "source": [
        "##Q38) \n",
        "\n",
        "a=(int)(input(\"1st side of triangle: \"))\n",
        "b=(int)(input(\"2nd side of triangle: \"))\n",
        "c=(int)(input(\"3rd side of triangle: \"))\n",
        "# Semi parameter\n",
        "s=(a+b+c)/2\n",
        "#Area \n",
        "A=math.sqrt(s*(s-a)*(s-b)*(s-c))\n",
        "A\n"
      ]
    },
    {
      "cell_type": "code",
      "execution_count": 8,
      "metadata": {
        "colab": {
          "base_uri": "https://localhost:8080/"
        },
        "id": "cPUiROaMFtNH",
        "outputId": "2d2aa51b-c68a-482c-a779-46c640a58c66"
      },
      "outputs": [
        {
          "output_type": "stream",
          "name": "stdout",
          "text": [
            "16\n"
          ]
        }
      ],
      "source": [
        "##Q39)\n",
        "X=2\n",
        "n=5\n",
        "mult=1\n",
        "for i in range(2,n):\n",
        "    mult=X**i\n",
        "print(mult)"
      ]
    },
    {
      "cell_type": "code",
      "execution_count": 9,
      "metadata": {
        "colab": {
          "base_uri": "https://localhost:8080/"
        },
        "id": "yp3FuqEVFtNI",
        "outputId": "4a1b8eaa-aea3-47d2-ad72-9a99e9e6ce3e"
      },
      "outputs": [
        {
          "output_type": "stream",
          "name": "stdout",
          "text": [
            "Enter Radius: 3.14\n",
            "Area of Circle is:  30.959144000000002\n",
            "Circumference of Circle is:  19.7192\n"
          ]
        }
      ],
      "source": [
        "##Q40)\n",
        "r=(float)(input(\"Enter Radius: \"))\n",
        "a=3.14*r*r\n",
        "c=2*3.14*r\n",
        "print(\"Area of Circle is: \",a)\n",
        "print(\"Circumference of Circle is: \",c)"
      ]
    }
  ],
  "metadata": {
    "kernelspec": {
      "display_name": "Python 3",
      "language": "python",
      "name": "python3"
    },
    "language_info": {
      "codemirror_mode": {
        "name": "ipython",
        "version": 3
      },
      "file_extension": ".py",
      "mimetype": "text/x-python",
      "name": "python",
      "nbconvert_exporter": "python",
      "pygments_lexer": "ipython3",
      "version": "3.8.3"
    },
    "colab": {
      "name": "Assignment_3_Gaurav_Vijay_Gavali.ipynb",
      "provenance": [],
      "include_colab_link": true
    }
  },
  "nbformat": 4,
  "nbformat_minor": 0
}