{
  "nbformat": 4,
  "nbformat_minor": 0,
  "metadata": {
    "colab": {
      "name": "Yogesh_Kumar_Lalwani_9158_Assignment_1.ipynb",
      "provenance": [],
      "include_colab_link": true
    },
    "kernelspec": {
      "name": "python3",
      "display_name": "Python 3"
    },
    "language_info": {
      "name": "python"
    }
  },
  "cells": [
    {
      "cell_type": "markdown",
      "metadata": {
        "id": "view-in-github",
        "colab_type": "text"
      },
      "source": [
        "<a href=\"https://colab.research.google.com/github/Gaurav2305/Basics-of-Python_SPC/blob/main/Assignments/Assignment_1_Gaurav_Vijay_Gavali.ipynb\" target=\"_parent\"><img src=\"https://colab.research.google.com/assets/colab-badge.svg\" alt=\"Open In Colab\"/></a>"
      ]
    },
    {
      "cell_type": "code",
      "execution_count": 1,
      "metadata": {
        "id": "AQljpCDjRh9M"
      },
      "outputs": [],
      "source": [
        "Name=\"Gaurav Vijay Gavali\"\n",
        "Roll_No=9144"
      ]
    },
    {
      "cell_type": "markdown",
      "metadata": {
        "id": "zddStRefVezy"
      },
      "source": [
        "Lists"
      ]
    },
    {
      "cell_type": "code",
      "execution_count": 2,
      "metadata": {
        "colab": {
          "base_uri": "https://localhost:8080/"
        },
        "id": "UPa8vWBHT7Mt",
        "outputId": "86463c8a-1ebe-4d94-e779-ce8656ab6a0a"
      },
      "outputs": [
        {
          "output_type": "stream",
          "name": "stdout",
          "text": [
            "['Gaurav', 'Gavali', 21, 'Student']\n",
            "['SP College', 'Autonomous', 'Sadashiv Peth', 411030]\n"
          ]
        }
      ],
      "source": [
        "A=[\"Gaurav\",\"Gavali\",21,\"Student\",]\n",
        "B=[\"SP College\",\"Autonomous\",\"Sadashiv Peth\",411030]\n",
        "print(A)\n",
        "print(B)"
      ]
    },
    {
      "cell_type": "markdown",
      "metadata": {
        "id": "A33kXrv8VnVw"
      },
      "source": [
        "Tupples"
      ]
    },
    {
      "cell_type": "code",
      "execution_count": 3,
      "metadata": {
        "colab": {
          "base_uri": "https://localhost:8080/"
        },
        "id": "CLWvdwTyVo6k",
        "outputId": "80979f3c-7a24-4ed1-94df-afc91c07b9db"
      },
      "outputs": [
        {
          "output_type": "stream",
          "name": "stdout",
          "text": [
            "('Gaurav', 'Gavali', 21, 'Student')\n",
            "('SP College', 'Autonomous', 'Sadashiv Peth', 411030)\n"
          ]
        }
      ],
      "source": [
        "a=(\"Gaurav\",\"Gavali\",21,\"Student\")\n",
        "b=(\"SP College\",\"Autonomous\",\"Sadashiv Peth\",411030)\n",
        "print(a)\n",
        "print(b)"
      ]
    },
    {
      "cell_type": "code",
      "execution_count": 4,
      "metadata": {
        "colab": {
          "base_uri": "https://localhost:8080/"
        },
        "id": "P0PC7eFiW1xa",
        "outputId": "56d0ad66-8762-405a-a33b-83097b78dabe"
      },
      "outputs": [
        {
          "output_type": "stream",
          "name": "stdout",
          "text": [
            "['Gaurav', 'Gavali']\n",
            "['Sadashiv Peth']\n",
            "21\n",
            "411030\n"
          ]
        }
      ],
      "source": [
        "print(A[0:2])\n",
        "print(B[2:3])\n",
        "print(a[2])\n",
        "print(b[3])"
      ]
    },
    {
      "cell_type": "markdown",
      "metadata": {
        "id": "Vq1FbFa4V7GU"
      },
      "source": [
        "Class"
      ]
    },
    {
      "cell_type": "code",
      "execution_count": 5,
      "metadata": {
        "colab": {
          "base_uri": "https://localhost:8080/"
        },
        "id": "K9Zz9geHWSYX",
        "outputId": "20a164da-9b13-4245-db18-937a052f89ee"
      },
      "outputs": [
        {
          "output_type": "stream",
          "name": "stdout",
          "text": [
            "<class 'list'>\n",
            "<class 'list'>\n",
            "<class 'tuple'>\n",
            "<class 'tuple'>\n"
          ]
        }
      ],
      "source": [
        "print(type(A))\n",
        "print(type(B))\n",
        "print(type(a))\n",
        "print(type(b))"
      ]
    },
    {
      "cell_type": "markdown",
      "metadata": {
        "id": "HyzEj8AlWoo8"
      },
      "source": [
        "Copy"
      ]
    },
    {
      "cell_type": "code",
      "execution_count": 6,
      "metadata": {
        "colab": {
          "base_uri": "https://localhost:8080/"
        },
        "id": "I5ALFx4NfqHY",
        "outputId": "b6abbcef-5800-47e9-e600-5c6abcd236d7"
      },
      "outputs": [
        {
          "output_type": "stream",
          "name": "stdout",
          "text": [
            "['Gaurav', 'Gavali', 21, 'Student']\n",
            "['Gaurav', 'Gavali', 21, 'Student']\n"
          ]
        }
      ],
      "source": [
        "print(A)\n",
        "A1=A.copy()\n",
        "print(A1)\n",
        "\n",
        "### Tupples cannot be copied"
      ]
    },
    {
      "cell_type": "markdown",
      "metadata": {
        "id": "H2Igh-Dnhi3e"
      },
      "source": [
        "Append"
      ]
    },
    {
      "cell_type": "code",
      "execution_count": 7,
      "metadata": {
        "colab": {
          "base_uri": "https://localhost:8080/"
        },
        "id": "KJV-dQhOhnWk",
        "outputId": "c1d3ed36-7e10-45d2-9f69-4f66e98ebace"
      },
      "outputs": [
        {
          "output_type": "stream",
          "name": "stdout",
          "text": [
            "['SP College', 'Autonomous', 'Sadashiv Peth', 411030]\n",
            "['SP College', 'Autonomous', 'Sadashiv Peth', 411030, 'Autonomous']\n"
          ]
        }
      ],
      "source": [
        "print(B)\n",
        "B.append(\"Autonomous\")\n",
        "print(B)\n",
        "\n",
        "### TUpples cannot be modified"
      ]
    },
    {
      "cell_type": "markdown",
      "metadata": {
        "id": "yzC-dWA8j2_j"
      },
      "source": [
        "Count"
      ]
    },
    {
      "cell_type": "code",
      "execution_count": 8,
      "metadata": {
        "colab": {
          "base_uri": "https://localhost:8080/"
        },
        "id": "gX7asZPvj4VK",
        "outputId": "6674aeda-8d8f-4fc7-8394-6d48edc3447e"
      },
      "outputs": [
        {
          "output_type": "stream",
          "name": "stdout",
          "text": [
            "1\n",
            "2\n"
          ]
        }
      ],
      "source": [
        "print(A.count(\"Gaurav\"))\n",
        "A.append(\"Gaurav\")\n",
        "print(A.count(\"Gaurav\"))"
      ]
    },
    {
      "cell_type": "markdown",
      "metadata": {
        "id": "uZcdiR0plxbk"
      },
      "source": [
        "Delete list"
      ]
    },
    {
      "cell_type": "code",
      "execution_count": 9,
      "metadata": {
        "id": "UpHOO4Isly_O",
        "outputId": "ed469a70-7a1c-4692-987d-32745dba215b",
        "colab": {
          "base_uri": "https://localhost:8080/"
        }
      },
      "outputs": [
        {
          "output_type": "stream",
          "name": "stdout",
          "text": [
            "['Gaurav', 'Gavali', 21, 'Student']\n"
          ]
        }
      ],
      "source": [
        "try:\n",
        " print(A1)\n",
        " del A1\n",
        " print(A1)\n",
        "except:\n",
        "    pass\n",
        "\n",
        "### List A1 is deleted therefore it is showing error\n",
        "### Used Try and Expect to maintain the continuity of the program"
      ]
    },
    {
      "cell_type": "markdown",
      "metadata": {
        "id": "htdmmPEFmSZ2"
      },
      "source": [
        "Extend"
      ]
    },
    {
      "cell_type": "code",
      "execution_count": 10,
      "metadata": {
        "colab": {
          "base_uri": "https://localhost:8080/"
        },
        "id": "FiPc5sWpmTaG",
        "outputId": "5a020262-6f64-4385-c4be-309a8106b1ae"
      },
      "outputs": [
        {
          "output_type": "stream",
          "name": "stdout",
          "text": [
            "['Gaurav', 'Gavali', 21, 'Student', 'Gaurav']\n",
            "['SP College', 'Autonomous', 'Sadashiv Peth', 411030, 'Autonomous']\n",
            "['Gaurav', 'Gavali', 21, 'Student', 'Gaurav', 'SP College', 'Autonomous', 'Sadashiv Peth', 411030, 'Autonomous']\n"
          ]
        }
      ],
      "source": [
        "print(A)\n",
        "print(B)\n",
        "A.extend(B)\n",
        "print(A)"
      ]
    },
    {
      "cell_type": "markdown",
      "metadata": {
        "id": "3SZNyOkSmz_4"
      },
      "source": [
        "Index"
      ]
    },
    {
      "cell_type": "code",
      "execution_count": 11,
      "metadata": {
        "colab": {
          "base_uri": "https://localhost:8080/"
        },
        "id": "lh7Fcztcm5zQ",
        "outputId": "134214a5-cf5a-4656-b90e-80b1718a63a9"
      },
      "outputs": [
        {
          "output_type": "stream",
          "name": "stdout",
          "text": [
            "2\n",
            "6\n"
          ]
        }
      ],
      "source": [
        "print(B.index(\"Sadashiv Peth\"))\n",
        "print(A.index(\"Autonomous\"))\n",
        "\n",
        "### If the elements are repeated in the list then index() will provide the index no. of first element"
      ]
    },
    {
      "cell_type": "markdown",
      "metadata": {
        "id": "i18HeCFVna_F"
      },
      "source": [
        "Sort"
      ]
    },
    {
      "cell_type": "code",
      "execution_count": 12,
      "metadata": {
        "colab": {
          "base_uri": "https://localhost:8080/"
        },
        "id": "53GvfXQgnb07",
        "outputId": "c46339ad-28d3-4067-efd4-824dc5cea739"
      },
      "outputs": [
        {
          "output_type": "stream",
          "name": "stdout",
          "text": [
            "['D', 'A', 'C', 'B']\n",
            "[4, 2, 1, 3]\n",
            "['A', 'B', 'C', 'D']\n",
            "[1, 2, 3, 4]\n"
          ]
        }
      ],
      "source": [
        "K=[\"D\",\"A\",\"C\",\"B\"]\n",
        "print(K)\n",
        "K1=[4,2,1,3]\n",
        "print(K1)\n",
        "K.sort()\n",
        "K1.sort()\n",
        "print(K)\n",
        "print(K1)\n",
        "\n",
        "### For sorting all the elements in the list should be of same type"
      ]
    },
    {
      "cell_type": "markdown",
      "metadata": {
        "id": "gcL3B3ELoci8"
      },
      "source": [
        "Access"
      ]
    },
    {
      "cell_type": "code",
      "execution_count": 13,
      "metadata": {
        "colab": {
          "base_uri": "https://localhost:8080/"
        },
        "id": "Ej2MOc8Nofdk",
        "outputId": "5ee01213-742a-4354-f40e-aacd1b254660"
      },
      "outputs": [
        {
          "output_type": "stream",
          "name": "stdout",
          "text": [
            "['A', 'B']\n",
            "[1, 2, 3, 4]\n"
          ]
        }
      ],
      "source": [
        "print(K[:2])\n",
        "print(K1[0:])"
      ]
    },
    {
      "cell_type": "markdown",
      "metadata": {
        "id": "CsCUgmvxo_KC"
      },
      "source": [
        "Nested List"
      ]
    },
    {
      "cell_type": "code",
      "execution_count": 14,
      "metadata": {
        "colab": {
          "base_uri": "https://localhost:8080/"
        },
        "id": "M4UQ5D3VpApW",
        "outputId": "1f85934b-3ad0-443a-b2e6-c2b568394d73"
      },
      "outputs": [
        {
          "output_type": "stream",
          "name": "stdout",
          "text": [
            "['Gaurav', 'SP COllege', [21, 411030]]\n",
            "[21, 411030]\n"
          ]
        }
      ],
      "source": [
        "ABlist=[\"Gaurav\",\"SP COllege\",[21,411030]]\n",
        "print(ABlist)\n",
        "print(ABlist[2])"
      ]
    }
  ]
}