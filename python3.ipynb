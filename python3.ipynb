{
 "cells": [
  {
   "cell_type": "markdown",
   "id": "8a8aa3c4",
   "metadata": {},
   "source": [
    "Booleans\n",
    "Booleans represent one of two values: True or False."
   ]
  },
  {
   "cell_type": "code",
   "execution_count": 1,
   "id": "1f20b29a",
   "metadata": {},
   "outputs": [
    {
     "name": "stdout",
     "output_type": "stream",
     "text": [
      "True\n",
      "False\n",
      "False\n"
     ]
    }
   ],
   "source": [
    "print(10 > 9)\n",
    "print(10 == 9)\n",
    "print(10 < 9)"
   ]
  },
  {
   "cell_type": "code",
   "execution_count": 2,
   "id": "b11271b4",
   "metadata": {},
   "outputs": [
    {
     "name": "stdout",
     "output_type": "stream",
     "text": [
      "True\n",
      "False\n"
     ]
    }
   ],
   "source": [
    "# The bool() function allows you to evaluate any value, \n",
    "# and give you True or False in return\n",
    "print(bool(\"Hello\"))\n",
    "print(bool())"
   ]
  },
  {
   "cell_type": "code",
   "execution_count": 3,
   "id": "262cd331",
   "metadata": {},
   "outputs": [
    {
     "name": "stdout",
     "output_type": "stream",
     "text": [
      "True\n",
      "True\n"
     ]
    }
   ],
   "source": [
    "x = \"Hello\"\n",
    "y = 15\n",
    "\n",
    "print(bool(x))\n",
    "print(bool(y))"
   ]
  },
  {
   "cell_type": "code",
   "execution_count": 4,
   "id": "bf2703d0",
   "metadata": {},
   "outputs": [
    {
     "name": "stdout",
     "output_type": "stream",
     "text": [
      "False\n",
      "False\n",
      "False\n",
      "False\n",
      "False\n",
      "False\n",
      "False\n"
     ]
    }
   ],
   "source": [
    "#Some Values are False\n",
    "print(bool(False))\n",
    "print(bool(None))\n",
    "print(bool(0))\n",
    "print(bool(\"\"))\n",
    "print(bool(()))\n",
    "print(bool([]))\n",
    "print(bool({}))"
   ]
  },
  {
   "cell_type": "markdown",
   "id": "7750ea46",
   "metadata": {},
   "source": [
    "Comparison Operators\n",
    "Equal ==\n",
    "Not equal !=\n",
    "Greater >\n",
    "Less <\n",
    "Greater than equal to >=\n",
    "Less than equal to <="
   ]
  },
  {
   "cell_type": "code",
   "execution_count": 5,
   "id": "ab111151",
   "metadata": {},
   "outputs": [
    {
     "name": "stdout",
     "output_type": "stream",
     "text": [
      "False\n",
      "True\n",
      "True\n",
      "False\n",
      "True\n",
      "False\n"
     ]
    }
   ],
   "source": [
    "x,y = 15, 9\n",
    "print(x==y)\n",
    "print(x!=y)\n",
    "print(x>y)\n",
    "print(x<y)\n",
    "print(x>=y)\n",
    "print(x<=y)"
   ]
  },
  {
   "cell_type": "code",
   "execution_count": 6,
   "id": "fb294404",
   "metadata": {},
   "outputs": [
    {
     "name": "stdout",
     "output_type": "stream",
     "text": [
      "False\n",
      "True\n",
      "True\n",
      "True\n"
     ]
    }
   ],
   "source": [
    "x=8\n",
    "print(x < 5 and  x < 10)\n",
    "print(x < 5 or  x < 10)\n",
    "print(not(x>10))\n",
    "print(not(x < 5 and x < 10))"
   ]
  },
  {
   "cell_type": "code",
   "execution_count": 7,
   "id": "c424ad02",
   "metadata": {},
   "outputs": [
    {
     "name": "stdout",
     "output_type": "stream",
     "text": [
      "False\n",
      "True\n"
     ]
    }
   ],
   "source": [
    "x, y = 2,10\n",
    "print(x is y)\n",
    "print(x is not y)"
   ]
  },
  {
   "cell_type": "code",
   "execution_count": 8,
   "id": "08d478c3",
   "metadata": {},
   "outputs": [
    {
     "name": "stdout",
     "output_type": "stream",
     "text": [
      "True\n",
      "False\n"
     ]
    }
   ],
   "source": [
    "x, y = 'Hi', \"Hi\"\n",
    "print(x is y)\n",
    "print(x is not y)"
   ]
  },
  {
   "cell_type": "markdown",
   "id": "a64de655",
   "metadata": {},
   "source": [
    "Membership Operators\n",
    "\n",
    "\n",
    "*in\n",
    "\n",
    "\n",
    "*not in"
   ]
  },
  {
   "cell_type": "code",
   "execution_count": 9,
   "id": "9e5ba5ec",
   "metadata": {},
   "outputs": [
    {
     "name": "stdout",
     "output_type": "stream",
     "text": [
      "True\n"
     ]
    }
   ],
   "source": [
    "x=\"Have a Hgood day!\" #He\n",
    "print(\"Have\" in x)\n",
    "#print(\"H\" in x)\n",
    "#print(\"av a\" in x)\n",
    "#print('good day' in x)"
   ]
  },
  {
   "cell_type": "code",
   "execution_count": 10,
   "id": "99755e79",
   "metadata": {},
   "outputs": [
    {
     "name": "stdout",
     "output_type": "stream",
     "text": [
      "True\n"
     ]
    }
   ],
   "source": [
    "a = \"is not in Pune\"\n",
    "print('Pune' in a)"
   ]
  },
  {
   "cell_type": "code",
   "execution_count": null,
   "id": "2a18ff06",
   "metadata": {},
   "outputs": [],
   "source": []
  }
 ],
 "metadata": {
  "kernelspec": {
   "display_name": "Python 3 (ipykernel)",
   "language": "python",
   "name": "python3"
  },
  "language_info": {
   "codemirror_mode": {
    "name": "ipython",
    "version": 3
   },
   "file_extension": ".py",
   "mimetype": "text/x-python",
   "name": "python",
   "nbconvert_exporter": "python",
   "pygments_lexer": "ipython3",
   "version": "3.8.8"
  }
 },
 "nbformat": 4,
 "nbformat_minor": 5
}
